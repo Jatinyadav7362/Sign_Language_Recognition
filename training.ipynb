{
  "cells": [
    {
      "cell_type": "code",
      "execution_count": 25,
      "metadata": {
        "id": "igMyGnjE9hEp"
      },
      "outputs": [],
      "source": [
        "import csv\n",
        "\n",
        "import numpy as np\n",
        "import tensorflow as tf\n",
        "from sklearn.model_selection import train_test_split\n",
        "\n",
        "RANDOM_SEED = 42"
      ]
    },
    {
      "attachments": {},
      "cell_type": "markdown",
      "metadata": {
        "id": "t2HDvhIu9hEr"
      },
      "source": [
        "# Specify each path"
      ]
    },
    {
      "cell_type": "code",
      "execution_count": null,
      "metadata": {
        "id": "9NvZP2Zn9hEy"
      },
      "outputs": [],
      "source": [
        "dataset = 'D:\\Sign_Language_Recognition\\slr\\model\\keypoint.csv'\n",
        "model_save_path = 'model/slr_model.hdf5'\n",
        "tflite_save_path = 'model/slr_model.tflite'"
      ]
    },
    {
      "attachments": {},
      "cell_type": "markdown",
      "metadata": {
        "id": "s5oMH7x19hEz"
      },
      "source": [
        "# Set number of classes"
      ]
    },
    {
      "cell_type": "code",
      "execution_count": 27,
      "metadata": {
        "id": "du4kodXL9hEz"
      },
      "outputs": [],
      "source": [
        "NUM_CLASSES = 25"
      ]
    },
    {
      "attachments": {},
      "cell_type": "markdown",
      "metadata": {
        "id": "XjnL0uso9hEz"
      },
      "source": [
        "# Dataset reading"
      ]
    },
    {
      "cell_type": "code",
      "execution_count": 28,
      "metadata": {
        "id": "QT5ZqtEz9hE0"
      },
      "outputs": [],
      "source": [
        "X_dataset = np.loadtxt(dataset, delimiter=',', dtype='float32', usecols=list(range(1, (21 * 2) + 1)))"
      ]
    },
    {
      "cell_type": "code",
      "execution_count": 29,
      "metadata": {
        "id": "QmoKFsp49hE0"
      },
      "outputs": [],
      "source": [
        "y_dataset = np.loadtxt(dataset, delimiter=',', dtype='int32', usecols=(0))"
      ]
    },
    {
      "cell_type": "code",
      "execution_count": 30,
      "metadata": {
        "id": "xQU7JTZ_9hE0"
      },
      "outputs": [],
      "source": [
        "X_train, X_test, y_train, y_test = train_test_split(X_dataset, y_dataset, train_size=0.85, random_state=RANDOM_SEED)"
      ]
    },
    {
      "cell_type": "code",
      "execution_count": 31,
      "metadata": {},
      "outputs": [
        {
          "data": {
            "text/plain": [
              "array([ 0,  0,  0, ..., 24, 24, 24])"
            ]
          },
          "execution_count": 31,
          "metadata": {},
          "output_type": "execute_result"
        }
      ],
      "source": [
        "y_dataset"
      ]
    },
    {
      "attachments": {},
      "cell_type": "markdown",
      "metadata": {
        "id": "mxK_lETT9hE0"
      },
      "source": [
        "# Model building"
      ]
    },
    {
      "cell_type": "code",
      "execution_count": 32,
      "metadata": {
        "id": "vHBmUf1t9hE1"
      },
      "outputs": [],
      "source": [
        "model = tf.keras.models.Sequential([\n",
        "    tf.keras.layers.Input((21 * 2, )),\n",
        "    tf.keras.layers.Dropout(0.2),\n",
        "    tf.keras.layers.Dense(20, activation='relu'),\n",
        "    tf.keras.layers.Dropout(0.4),\n",
        "    tf.keras.layers.Dense(10, activation='relu'),\n",
        "    tf.keras.layers.Dense(NUM_CLASSES, activation='softmax')\n",
        "])"
      ]
    },
    {
      "cell_type": "code",
      "execution_count": 33,
      "metadata": {
        "colab": {
          "base_uri": "https://localhost:8080/"
        },
        "id": "ypqky9tc9hE1",
        "outputId": "5db082bb-30e3-4110-bf63-a1ee777ecd46"
      },
      "outputs": [
        {
          "name": "stdout",
          "output_type": "stream",
          "text": [
            "Model: \"sequential_1\"\n",
            "_________________________________________________________________\n",
            " Layer (type)                Output Shape              Param #   \n",
            "=================================================================\n",
            " dropout_2 (Dropout)         (None, 42)                0         \n",
            "                                                                 \n",
            " dense_3 (Dense)             (None, 20)                860       \n",
            "                                                                 \n",
            " dropout_3 (Dropout)         (None, 20)                0         \n",
            "                                                                 \n",
            " dense_4 (Dense)             (None, 10)                210       \n",
            "                                                                 \n",
            " dense_5 (Dense)             (None, 25)                275       \n",
            "                                                                 \n",
            "=================================================================\n",
            "Total params: 1,345\n",
            "Trainable params: 1,345\n",
            "Non-trainable params: 0\n",
            "_________________________________________________________________\n"
          ]
        }
      ],
      "source": [
        "model.summary()  # tf.keras.utils.plot_model(model, show_shapes=True)"
      ]
    },
    {
      "cell_type": "code",
      "execution_count": 34,
      "metadata": {
        "id": "MbMjOflQ9hE1"
      },
      "outputs": [],
      "source": [
        "# Model checkpoint callback\n",
        "cp_callback = tf.keras.callbacks.ModelCheckpoint(\n",
        "    model_save_path, verbose=1, save_weights_only=False)\n",
        "# Callback for early stopping\n",
        "es_callback = tf.keras.callbacks.EarlyStopping(patience=20, verbose=1)"
      ]
    },
    {
      "cell_type": "code",
      "execution_count": 35,
      "metadata": {
        "id": "c3Dac0M_9hE2"
      },
      "outputs": [],
      "source": [
        "# Model compilation\n",
        "model.compile(\n",
        "    optimizer='adam',\n",
        "    loss='sparse_categorical_crossentropy',\n",
        "    metrics=['accuracy']\n",
        ")"
      ]
    },
    {
      "attachments": {},
      "cell_type": "markdown",
      "metadata": {
        "id": "7XI0j1Iu9hE2"
      },
      "source": [
        "# Model training"
      ]
    },
    {
      "cell_type": "code",
      "execution_count": 36,
      "metadata": {
        "colab": {
          "base_uri": "https://localhost:8080/"
        },
        "id": "WirBl-JE9hE3",
        "outputId": "71b30ca2-8294-4d9d-8aa2-800d90d399de",
        "scrolled": true
      },
      "outputs": [
        {
          "name": "stdout",
          "output_type": "stream",
          "text": [
            "Epoch 1/1000\n",
            "154/167 [==========================>...] - ETA: 0s - loss: 3.0752 - accuracy: 0.1061\n",
            "Epoch 1: saving model to model\\slr_model.hdf5_2\n"
          ]
        },
        {
          "name": "stderr",
          "output_type": "stream",
          "text": [
            "WARNING:absl:Found untraced functions such as _update_step_xla while saving (showing 1 of 1). These functions will not be directly callable after loading.\n"
          ]
        },
        {
          "name": "stdout",
          "output_type": "stream",
          "text": [
            "INFO:tensorflow:Assets written to: model\\slr_model.hdf5_2\\assets\n"
          ]
        },
        {
          "name": "stderr",
          "output_type": "stream",
          "text": [
            "INFO:tensorflow:Assets written to: model\\slr_model.hdf5_2\\assets\n"
          ]
        },
        {
          "name": "stdout",
          "output_type": "stream",
          "text": [
            "167/167 [==============================] - 2s 10ms/step - loss: 3.0523 - accuracy: 0.1099 - val_loss: 2.5999 - val_accuracy: 0.2221\n",
            "Epoch 2/1000\n",
            "161/167 [===========================>..] - ETA: 0s - loss: 2.4200 - accuracy: 0.2257\n",
            "Epoch 2: saving model to model\\slr_model.hdf5_2\n"
          ]
        },
        {
          "name": "stderr",
          "output_type": "stream",
          "text": [
            "WARNING:absl:Found untraced functions such as _update_step_xla while saving (showing 1 of 1). These functions will not be directly callable after loading.\n"
          ]
        },
        {
          "name": "stdout",
          "output_type": "stream",
          "text": [
            "INFO:tensorflow:Assets written to: model\\slr_model.hdf5_2\\assets\n"
          ]
        },
        {
          "name": "stderr",
          "output_type": "stream",
          "text": [
            "INFO:tensorflow:Assets written to: model\\slr_model.hdf5_2\\assets\n"
          ]
        },
        {
          "name": "stdout",
          "output_type": "stream",
          "text": [
            "167/167 [==============================] - 1s 7ms/step - loss: 2.4126 - accuracy: 0.2279 - val_loss: 1.8358 - val_accuracy: 0.5488\n",
            "Epoch 3/1000\n",
            "136/167 [=======================>......] - ETA: 0s - loss: 1.9966 - accuracy: 0.3321\n",
            "Epoch 3: saving model to model\\slr_model.hdf5_2\n"
          ]
        },
        {
          "name": "stderr",
          "output_type": "stream",
          "text": [
            "WARNING:absl:Found untraced functions such as _update_step_xla while saving (showing 1 of 1). These functions will not be directly callable after loading.\n"
          ]
        },
        {
          "name": "stdout",
          "output_type": "stream",
          "text": [
            "INFO:tensorflow:Assets written to: model\\slr_model.hdf5_2\\assets\n"
          ]
        },
        {
          "name": "stderr",
          "output_type": "stream",
          "text": [
            "INFO:tensorflow:Assets written to: model\\slr_model.hdf5_2\\assets\n"
          ]
        },
        {
          "name": "stdout",
          "output_type": "stream",
          "text": [
            "167/167 [==============================] - 1s 7ms/step - loss: 1.9692 - accuracy: 0.3407 - val_loss: 1.4134 - val_accuracy: 0.7029\n",
            "Epoch 4/1000\n",
            "165/167 [============================>.] - ETA: 0s - loss: 1.7266 - accuracy: 0.4016\n",
            "Epoch 4: saving model to model\\slr_model.hdf5_2\n"
          ]
        },
        {
          "name": "stderr",
          "output_type": "stream",
          "text": [
            "WARNING:absl:Found untraced functions such as _update_step_xla while saving (showing 1 of 1). These functions will not be directly callable after loading.\n"
          ]
        },
        {
          "name": "stdout",
          "output_type": "stream",
          "text": [
            "INFO:tensorflow:Assets written to: model\\slr_model.hdf5_2\\assets\n"
          ]
        },
        {
          "name": "stderr",
          "output_type": "stream",
          "text": [
            "INFO:tensorflow:Assets written to: model\\slr_model.hdf5_2\\assets\n"
          ]
        },
        {
          "name": "stdout",
          "output_type": "stream",
          "text": [
            "167/167 [==============================] - 1s 7ms/step - loss: 1.7273 - accuracy: 0.4014 - val_loss: 1.1818 - val_accuracy: 0.7349\n",
            "Epoch 5/1000\n",
            "140/167 [========================>.....] - ETA: 0s - loss: 1.6039 - accuracy: 0.4420\n",
            "Epoch 5: saving model to model\\slr_model.hdf5_2\n"
          ]
        },
        {
          "name": "stderr",
          "output_type": "stream",
          "text": [
            "WARNING:absl:Found untraced functions such as _update_step_xla while saving (showing 1 of 1). These functions will not be directly callable after loading.\n"
          ]
        },
        {
          "name": "stdout",
          "output_type": "stream",
          "text": [
            "INFO:tensorflow:Assets written to: model\\slr_model.hdf5_2\\assets\n"
          ]
        },
        {
          "name": "stderr",
          "output_type": "stream",
          "text": [
            "INFO:tensorflow:Assets written to: model\\slr_model.hdf5_2\\assets\n"
          ]
        },
        {
          "name": "stdout",
          "output_type": "stream",
          "text": [
            "167/167 [==============================] - 1s 7ms/step - loss: 1.5947 - accuracy: 0.4426 - val_loss: 1.0210 - val_accuracy: 0.7861\n",
            "Epoch 6/1000\n",
            "138/167 [=======================>......] - ETA: 0s - loss: 1.5092 - accuracy: 0.4688\n",
            "Epoch 6: saving model to model\\slr_model.hdf5_2\n"
          ]
        },
        {
          "name": "stderr",
          "output_type": "stream",
          "text": [
            "WARNING:absl:Found untraced functions such as _update_step_xla while saving (showing 1 of 1). These functions will not be directly callable after loading.\n"
          ]
        },
        {
          "name": "stdout",
          "output_type": "stream",
          "text": [
            "INFO:tensorflow:Assets written to: model\\slr_model.hdf5_2\\assets\n"
          ]
        },
        {
          "name": "stderr",
          "output_type": "stream",
          "text": [
            "INFO:tensorflow:Assets written to: model\\slr_model.hdf5_2\\assets\n"
          ]
        },
        {
          "name": "stdout",
          "output_type": "stream",
          "text": [
            "167/167 [==============================] - 1s 7ms/step - loss: 1.5050 - accuracy: 0.4699 - val_loss: 0.9349 - val_accuracy: 0.8376\n",
            "Epoch 7/1000\n",
            "126/167 [=====================>........] - ETA: 0s - loss: 1.4479 - accuracy: 0.4832\n",
            "Epoch 7: saving model to model\\slr_model.hdf5_2\n"
          ]
        },
        {
          "name": "stderr",
          "output_type": "stream",
          "text": [
            "WARNING:absl:Found untraced functions such as _update_step_xla while saving (showing 1 of 1). These functions will not be directly callable after loading.\n"
          ]
        },
        {
          "name": "stdout",
          "output_type": "stream",
          "text": [
            "INFO:tensorflow:Assets written to: model\\slr_model.hdf5_2\\assets\n"
          ]
        },
        {
          "name": "stderr",
          "output_type": "stream",
          "text": [
            "INFO:tensorflow:Assets written to: model\\slr_model.hdf5_2\\assets\n"
          ]
        },
        {
          "name": "stdout",
          "output_type": "stream",
          "text": [
            "167/167 [==============================] - 1s 8ms/step - loss: 1.4397 - accuracy: 0.4885 - val_loss: 0.8794 - val_accuracy: 0.8613\n",
            "Epoch 8/1000\n",
            "132/167 [======================>.......] - ETA: 0s - loss: 1.4022 - accuracy: 0.5002\n",
            "Epoch 8: saving model to model\\slr_model.hdf5_2\n"
          ]
        },
        {
          "name": "stderr",
          "output_type": "stream",
          "text": [
            "WARNING:absl:Found untraced functions such as _update_step_xla while saving (showing 1 of 1). These functions will not be directly callable after loading.\n"
          ]
        },
        {
          "name": "stdout",
          "output_type": "stream",
          "text": [
            "INFO:tensorflow:Assets written to: model\\slr_model.hdf5_2\\assets\n"
          ]
        },
        {
          "name": "stderr",
          "output_type": "stream",
          "text": [
            "INFO:tensorflow:Assets written to: model\\slr_model.hdf5_2\\assets\n"
          ]
        },
        {
          "name": "stdout",
          "output_type": "stream",
          "text": [
            "167/167 [==============================] - 1s 7ms/step - loss: 1.4002 - accuracy: 0.5016 - val_loss: 0.8305 - val_accuracy: 0.8677\n",
            "Epoch 9/1000\n",
            "157/167 [===========================>..] - ETA: 0s - loss: 1.3543 - accuracy: 0.5187\n",
            "Epoch 9: saving model to model\\slr_model.hdf5_2\n"
          ]
        },
        {
          "name": "stderr",
          "output_type": "stream",
          "text": [
            "WARNING:absl:Found untraced functions such as _update_step_xla while saving (showing 1 of 1). These functions will not be directly callable after loading.\n"
          ]
        },
        {
          "name": "stdout",
          "output_type": "stream",
          "text": [
            "INFO:tensorflow:Assets written to: model\\slr_model.hdf5_2\\assets\n"
          ]
        },
        {
          "name": "stderr",
          "output_type": "stream",
          "text": [
            "INFO:tensorflow:Assets written to: model\\slr_model.hdf5_2\\assets\n"
          ]
        },
        {
          "name": "stdout",
          "output_type": "stream",
          "text": [
            "167/167 [==============================] - 2s 10ms/step - loss: 1.3539 - accuracy: 0.5178 - val_loss: 0.7840 - val_accuracy: 0.8117\n",
            "Epoch 10/1000\n",
            "135/167 [=======================>......] - ETA: 0s - loss: 1.3199 - accuracy: 0.5280\n",
            "Epoch 10: saving model to model\\slr_model.hdf5_2\n"
          ]
        },
        {
          "name": "stderr",
          "output_type": "stream",
          "text": [
            "WARNING:absl:Found untraced functions such as _update_step_xla while saving (showing 1 of 1). These functions will not be directly callable after loading.\n"
          ]
        },
        {
          "name": "stdout",
          "output_type": "stream",
          "text": [
            "INFO:tensorflow:Assets written to: model\\slr_model.hdf5_2\\assets\n"
          ]
        },
        {
          "name": "stderr",
          "output_type": "stream",
          "text": [
            "INFO:tensorflow:Assets written to: model\\slr_model.hdf5_2\\assets\n"
          ]
        },
        {
          "name": "stdout",
          "output_type": "stream",
          "text": [
            "167/167 [==============================] - 2s 10ms/step - loss: 1.3215 - accuracy: 0.5250 - val_loss: 0.7553 - val_accuracy: 0.8797\n",
            "Epoch 11/1000\n",
            "167/167 [==============================] - ETA: 0s - loss: 1.2979 - accuracy: 0.5337\n",
            "Epoch 11: saving model to model\\slr_model.hdf5_2\n"
          ]
        },
        {
          "name": "stderr",
          "output_type": "stream",
          "text": [
            "WARNING:absl:Found untraced functions such as _update_step_xla while saving (showing 1 of 1). These functions will not be directly callable after loading.\n"
          ]
        },
        {
          "name": "stdout",
          "output_type": "stream",
          "text": [
            "INFO:tensorflow:Assets written to: model\\slr_model.hdf5_2\\assets\n"
          ]
        },
        {
          "name": "stderr",
          "output_type": "stream",
          "text": [
            "INFO:tensorflow:Assets written to: model\\slr_model.hdf5_2\\assets\n"
          ]
        },
        {
          "name": "stdout",
          "output_type": "stream",
          "text": [
            "167/167 [==============================] - 1s 8ms/step - loss: 1.2979 - accuracy: 0.5337 - val_loss: 0.7235 - val_accuracy: 0.8811\n",
            "Epoch 12/1000\n",
            "139/167 [=======================>......] - ETA: 0s - loss: 1.2780 - accuracy: 0.5397\n",
            "Epoch 12: saving model to model\\slr_model.hdf5_2\n"
          ]
        },
        {
          "name": "stderr",
          "output_type": "stream",
          "text": [
            "WARNING:absl:Found untraced functions such as _update_step_xla while saving (showing 1 of 1). These functions will not be directly callable after loading.\n"
          ]
        },
        {
          "name": "stdout",
          "output_type": "stream",
          "text": [
            "INFO:tensorflow:Assets written to: model\\slr_model.hdf5_2\\assets\n"
          ]
        },
        {
          "name": "stderr",
          "output_type": "stream",
          "text": [
            "INFO:tensorflow:Assets written to: model\\slr_model.hdf5_2\\assets\n"
          ]
        },
        {
          "name": "stdout",
          "output_type": "stream",
          "text": [
            "167/167 [==============================] - 1s 7ms/step - loss: 1.2736 - accuracy: 0.5407 - val_loss: 0.6962 - val_accuracy: 0.8979\n",
            "Epoch 13/1000\n",
            "149/167 [=========================>....] - ETA: 0s - loss: 1.2388 - accuracy: 0.5561\n",
            "Epoch 13: saving model to model\\slr_model.hdf5_2\n"
          ]
        },
        {
          "name": "stderr",
          "output_type": "stream",
          "text": [
            "WARNING:absl:Found untraced functions such as _update_step_xla while saving (showing 1 of 1). These functions will not be directly callable after loading.\n"
          ]
        },
        {
          "name": "stdout",
          "output_type": "stream",
          "text": [
            "INFO:tensorflow:Assets written to: model\\slr_model.hdf5_2\\assets\n"
          ]
        },
        {
          "name": "stderr",
          "output_type": "stream",
          "text": [
            "INFO:tensorflow:Assets written to: model\\slr_model.hdf5_2\\assets\n"
          ]
        },
        {
          "name": "stdout",
          "output_type": "stream",
          "text": [
            "167/167 [==============================] - 1s 7ms/step - loss: 1.2389 - accuracy: 0.5568 - val_loss: 0.6765 - val_accuracy: 0.9003\n",
            "Epoch 14/1000\n",
            "138/167 [=======================>......] - ETA: 0s - loss: 1.2407 - accuracy: 0.5571\n",
            "Epoch 14: saving model to model\\slr_model.hdf5_2\n"
          ]
        },
        {
          "name": "stderr",
          "output_type": "stream",
          "text": [
            "WARNING:absl:Found untraced functions such as _update_step_xla while saving (showing 1 of 1). These functions will not be directly callable after loading.\n"
          ]
        },
        {
          "name": "stdout",
          "output_type": "stream",
          "text": [
            "INFO:tensorflow:Assets written to: model\\slr_model.hdf5_2\\assets\n"
          ]
        },
        {
          "name": "stderr",
          "output_type": "stream",
          "text": [
            "INFO:tensorflow:Assets written to: model\\slr_model.hdf5_2\\assets\n"
          ]
        },
        {
          "name": "stdout",
          "output_type": "stream",
          "text": [
            "167/167 [==============================] - 1s 7ms/step - loss: 1.2366 - accuracy: 0.5587 - val_loss: 0.6567 - val_accuracy: 0.9365\n",
            "Epoch 15/1000\n",
            "162/167 [============================>.] - ETA: 0s - loss: 1.2159 - accuracy: 0.5672\n",
            "Epoch 15: saving model to model\\slr_model.hdf5_2\n"
          ]
        },
        {
          "name": "stderr",
          "output_type": "stream",
          "text": [
            "WARNING:absl:Found untraced functions such as _update_step_xla while saving (showing 1 of 1). These functions will not be directly callable after loading.\n"
          ]
        },
        {
          "name": "stdout",
          "output_type": "stream",
          "text": [
            "INFO:tensorflow:Assets written to: model\\slr_model.hdf5_2\\assets\n"
          ]
        },
        {
          "name": "stderr",
          "output_type": "stream",
          "text": [
            "INFO:tensorflow:Assets written to: model\\slr_model.hdf5_2\\assets\n"
          ]
        },
        {
          "name": "stdout",
          "output_type": "stream",
          "text": [
            "167/167 [==============================] - 1s 7ms/step - loss: 1.2148 - accuracy: 0.5674 - val_loss: 0.6267 - val_accuracy: 0.9195\n",
            "Epoch 16/1000\n",
            "156/167 [===========================>..] - ETA: 0s - loss: 1.1957 - accuracy: 0.5761\n",
            "Epoch 16: saving model to model\\slr_model.hdf5_2\n"
          ]
        },
        {
          "name": "stderr",
          "output_type": "stream",
          "text": [
            "WARNING:absl:Found untraced functions such as _update_step_xla while saving (showing 1 of 1). These functions will not be directly callable after loading.\n"
          ]
        },
        {
          "name": "stdout",
          "output_type": "stream",
          "text": [
            "INFO:tensorflow:Assets written to: model\\slr_model.hdf5_2\\assets\n"
          ]
        },
        {
          "name": "stderr",
          "output_type": "stream",
          "text": [
            "INFO:tensorflow:Assets written to: model\\slr_model.hdf5_2\\assets\n"
          ]
        },
        {
          "name": "stdout",
          "output_type": "stream",
          "text": [
            "167/167 [==============================] - 1s 7ms/step - loss: 1.1961 - accuracy: 0.5750 - val_loss: 0.6159 - val_accuracy: 0.8992\n",
            "Epoch 17/1000\n",
            "140/167 [========================>.....] - ETA: 0s - loss: 1.1877 - accuracy: 0.5723\n",
            "Epoch 17: saving model to model\\slr_model.hdf5_2\n"
          ]
        },
        {
          "name": "stderr",
          "output_type": "stream",
          "text": [
            "WARNING:absl:Found untraced functions such as _update_step_xla while saving (showing 1 of 1). These functions will not be directly callable after loading.\n"
          ]
        },
        {
          "name": "stdout",
          "output_type": "stream",
          "text": [
            "INFO:tensorflow:Assets written to: model\\slr_model.hdf5_2\\assets\n"
          ]
        },
        {
          "name": "stderr",
          "output_type": "stream",
          "text": [
            "INFO:tensorflow:Assets written to: model\\slr_model.hdf5_2\\assets\n"
          ]
        },
        {
          "name": "stdout",
          "output_type": "stream",
          "text": [
            "167/167 [==============================] - 2s 11ms/step - loss: 1.1952 - accuracy: 0.5719 - val_loss: 0.6148 - val_accuracy: 0.9019\n",
            "Epoch 18/1000\n",
            "153/167 [==========================>...] - ETA: 0s - loss: 1.1712 - accuracy: 0.5781\n",
            "Epoch 18: saving model to model\\slr_model.hdf5_2\n"
          ]
        },
        {
          "name": "stderr",
          "output_type": "stream",
          "text": [
            "WARNING:absl:Found untraced functions such as _update_step_xla while saving (showing 1 of 1). These functions will not be directly callable after loading.\n"
          ]
        },
        {
          "name": "stdout",
          "output_type": "stream",
          "text": [
            "INFO:tensorflow:Assets written to: model\\slr_model.hdf5_2\\assets\n"
          ]
        },
        {
          "name": "stderr",
          "output_type": "stream",
          "text": [
            "INFO:tensorflow:Assets written to: model\\slr_model.hdf5_2\\assets\n"
          ]
        },
        {
          "name": "stdout",
          "output_type": "stream",
          "text": [
            "167/167 [==============================] - 1s 9ms/step - loss: 1.1721 - accuracy: 0.5780 - val_loss: 0.5925 - val_accuracy: 0.9040\n",
            "Epoch 19/1000\n",
            "160/167 [===========================>..] - ETA: 0s - loss: 1.1514 - accuracy: 0.5871\n",
            "Epoch 19: saving model to model\\slr_model.hdf5_2\n"
          ]
        },
        {
          "name": "stderr",
          "output_type": "stream",
          "text": [
            "WARNING:absl:Found untraced functions such as _update_step_xla while saving (showing 1 of 1). These functions will not be directly callable after loading.\n"
          ]
        },
        {
          "name": "stdout",
          "output_type": "stream",
          "text": [
            "INFO:tensorflow:Assets written to: model\\slr_model.hdf5_2\\assets\n"
          ]
        },
        {
          "name": "stderr",
          "output_type": "stream",
          "text": [
            "INFO:tensorflow:Assets written to: model\\slr_model.hdf5_2\\assets\n"
          ]
        },
        {
          "name": "stdout",
          "output_type": "stream",
          "text": [
            "167/167 [==============================] - 2s 10ms/step - loss: 1.1509 - accuracy: 0.5868 - val_loss: 0.5801 - val_accuracy: 0.9224\n",
            "Epoch 20/1000\n",
            "132/167 [======================>.......] - ETA: 0s - loss: 1.1429 - accuracy: 0.5892\n",
            "Epoch 20: saving model to model\\slr_model.hdf5_2\n"
          ]
        },
        {
          "name": "stderr",
          "output_type": "stream",
          "text": [
            "WARNING:absl:Found untraced functions such as _update_step_xla while saving (showing 1 of 1). These functions will not be directly callable after loading.\n"
          ]
        },
        {
          "name": "stdout",
          "output_type": "stream",
          "text": [
            "INFO:tensorflow:Assets written to: model\\slr_model.hdf5_2\\assets\n"
          ]
        },
        {
          "name": "stderr",
          "output_type": "stream",
          "text": [
            "INFO:tensorflow:Assets written to: model\\slr_model.hdf5_2\\assets\n"
          ]
        },
        {
          "name": "stdout",
          "output_type": "stream",
          "text": [
            "167/167 [==============================] - 1s 7ms/step - loss: 1.1450 - accuracy: 0.5887 - val_loss: 0.5679 - val_accuracy: 0.8816\n",
            "Epoch 21/1000\n",
            "146/167 [=========================>....] - ETA: 0s - loss: 1.1253 - accuracy: 0.6011\n",
            "Epoch 21: saving model to model\\slr_model.hdf5_2\n"
          ]
        },
        {
          "name": "stderr",
          "output_type": "stream",
          "text": [
            "WARNING:absl:Found untraced functions such as _update_step_xla while saving (showing 1 of 1). These functions will not be directly callable after loading.\n"
          ]
        },
        {
          "name": "stdout",
          "output_type": "stream",
          "text": [
            "INFO:tensorflow:Assets written to: model\\slr_model.hdf5_2\\assets\n"
          ]
        },
        {
          "name": "stderr",
          "output_type": "stream",
          "text": [
            "INFO:tensorflow:Assets written to: model\\slr_model.hdf5_2\\assets\n"
          ]
        },
        {
          "name": "stdout",
          "output_type": "stream",
          "text": [
            "167/167 [==============================] - 1s 7ms/step - loss: 1.1218 - accuracy: 0.6019 - val_loss: 0.5459 - val_accuracy: 0.8888\n",
            "Epoch 22/1000\n",
            "137/167 [=======================>......] - ETA: 0s - loss: 1.1165 - accuracy: 0.5977\n",
            "Epoch 22: saving model to model\\slr_model.hdf5_2\n"
          ]
        },
        {
          "name": "stderr",
          "output_type": "stream",
          "text": [
            "WARNING:absl:Found untraced functions such as _update_step_xla while saving (showing 1 of 1). These functions will not be directly callable after loading.\n"
          ]
        },
        {
          "name": "stdout",
          "output_type": "stream",
          "text": [
            "INFO:tensorflow:Assets written to: model\\slr_model.hdf5_2\\assets\n"
          ]
        },
        {
          "name": "stderr",
          "output_type": "stream",
          "text": [
            "INFO:tensorflow:Assets written to: model\\slr_model.hdf5_2\\assets\n"
          ]
        },
        {
          "name": "stdout",
          "output_type": "stream",
          "text": [
            "167/167 [==============================] - 1s 7ms/step - loss: 1.1203 - accuracy: 0.5984 - val_loss: 0.5396 - val_accuracy: 0.9245\n",
            "Epoch 23/1000\n",
            "161/167 [===========================>..] - ETA: 0s - loss: 1.1086 - accuracy: 0.6047\n",
            "Epoch 23: saving model to model\\slr_model.hdf5_2\n"
          ]
        },
        {
          "name": "stderr",
          "output_type": "stream",
          "text": [
            "WARNING:absl:Found untraced functions such as _update_step_xla while saving (showing 1 of 1). These functions will not be directly callable after loading.\n"
          ]
        },
        {
          "name": "stdout",
          "output_type": "stream",
          "text": [
            "INFO:tensorflow:Assets written to: model\\slr_model.hdf5_2\\assets\n"
          ]
        },
        {
          "name": "stderr",
          "output_type": "stream",
          "text": [
            "INFO:tensorflow:Assets written to: model\\slr_model.hdf5_2\\assets\n"
          ]
        },
        {
          "name": "stdout",
          "output_type": "stream",
          "text": [
            "167/167 [==============================] - 1s 7ms/step - loss: 1.1082 - accuracy: 0.6046 - val_loss: 0.5255 - val_accuracy: 0.9064\n",
            "Epoch 24/1000\n",
            "155/167 [==========================>...] - ETA: 0s - loss: 1.1017 - accuracy: 0.6099\n",
            "Epoch 24: saving model to model\\slr_model.hdf5_2\n"
          ]
        },
        {
          "name": "stderr",
          "output_type": "stream",
          "text": [
            "WARNING:absl:Found untraced functions such as _update_step_xla while saving (showing 1 of 1). These functions will not be directly callable after loading.\n"
          ]
        },
        {
          "name": "stdout",
          "output_type": "stream",
          "text": [
            "INFO:tensorflow:Assets written to: model\\slr_model.hdf5_2\\assets\n"
          ]
        },
        {
          "name": "stderr",
          "output_type": "stream",
          "text": [
            "INFO:tensorflow:Assets written to: model\\slr_model.hdf5_2\\assets\n"
          ]
        },
        {
          "name": "stdout",
          "output_type": "stream",
          "text": [
            "167/167 [==============================] - 1s 7ms/step - loss: 1.1016 - accuracy: 0.6101 - val_loss: 0.5214 - val_accuracy: 0.9069\n",
            "Epoch 25/1000\n",
            "147/167 [=========================>....] - ETA: 0s - loss: 1.0924 - accuracy: 0.6108\n",
            "Epoch 25: saving model to model\\slr_model.hdf5_2\n"
          ]
        },
        {
          "name": "stderr",
          "output_type": "stream",
          "text": [
            "WARNING:absl:Found untraced functions such as _update_step_xla while saving (showing 1 of 1). These functions will not be directly callable after loading.\n"
          ]
        },
        {
          "name": "stdout",
          "output_type": "stream",
          "text": [
            "INFO:tensorflow:Assets written to: model\\slr_model.hdf5_2\\assets\n"
          ]
        },
        {
          "name": "stderr",
          "output_type": "stream",
          "text": [
            "INFO:tensorflow:Assets written to: model\\slr_model.hdf5_2\\assets\n"
          ]
        },
        {
          "name": "stdout",
          "output_type": "stream",
          "text": [
            "167/167 [==============================] - 1s 7ms/step - loss: 1.0895 - accuracy: 0.6125 - val_loss: 0.5106 - val_accuracy: 0.9133\n",
            "Epoch 26/1000\n",
            "161/167 [===========================>..] - ETA: 0s - loss: 1.0782 - accuracy: 0.6168\n",
            "Epoch 26: saving model to model\\slr_model.hdf5_2\n"
          ]
        },
        {
          "name": "stderr",
          "output_type": "stream",
          "text": [
            "WARNING:absl:Found untraced functions such as _update_step_xla while saving (showing 1 of 1). These functions will not be directly callable after loading.\n"
          ]
        },
        {
          "name": "stdout",
          "output_type": "stream",
          "text": [
            "INFO:tensorflow:Assets written to: model\\slr_model.hdf5_2\\assets\n"
          ]
        },
        {
          "name": "stderr",
          "output_type": "stream",
          "text": [
            "INFO:tensorflow:Assets written to: model\\slr_model.hdf5_2\\assets\n"
          ]
        },
        {
          "name": "stdout",
          "output_type": "stream",
          "text": [
            "167/167 [==============================] - 2s 10ms/step - loss: 1.0765 - accuracy: 0.6176 - val_loss: 0.4951 - val_accuracy: 0.9120\n",
            "Epoch 27/1000\n",
            "145/167 [=========================>....] - ETA: 0s - loss: 1.0653 - accuracy: 0.6250\n",
            "Epoch 27: saving model to model\\slr_model.hdf5_2\n"
          ]
        },
        {
          "name": "stderr",
          "output_type": "stream",
          "text": [
            "WARNING:absl:Found untraced functions such as _update_step_xla while saving (showing 1 of 1). These functions will not be directly callable after loading.\n"
          ]
        },
        {
          "name": "stdout",
          "output_type": "stream",
          "text": [
            "INFO:tensorflow:Assets written to: model\\slr_model.hdf5_2\\assets\n"
          ]
        },
        {
          "name": "stderr",
          "output_type": "stream",
          "text": [
            "INFO:tensorflow:Assets written to: model\\slr_model.hdf5_2\\assets\n"
          ]
        },
        {
          "name": "stdout",
          "output_type": "stream",
          "text": [
            "167/167 [==============================] - 1s 7ms/step - loss: 1.0612 - accuracy: 0.6271 - val_loss: 0.4918 - val_accuracy: 0.9389\n",
            "Epoch 28/1000\n",
            "157/167 [===========================>..] - ETA: 0s - loss: 1.0608 - accuracy: 0.6220\n",
            "Epoch 28: saving model to model\\slr_model.hdf5_2\n"
          ]
        },
        {
          "name": "stderr",
          "output_type": "stream",
          "text": [
            "WARNING:absl:Found untraced functions such as _update_step_xla while saving (showing 1 of 1). These functions will not be directly callable after loading.\n"
          ]
        },
        {
          "name": "stdout",
          "output_type": "stream",
          "text": [
            "INFO:tensorflow:Assets written to: model\\slr_model.hdf5_2\\assets\n"
          ]
        },
        {
          "name": "stderr",
          "output_type": "stream",
          "text": [
            "INFO:tensorflow:Assets written to: model\\slr_model.hdf5_2\\assets\n"
          ]
        },
        {
          "name": "stdout",
          "output_type": "stream",
          "text": [
            "167/167 [==============================] - 1s 7ms/step - loss: 1.0624 - accuracy: 0.6211 - val_loss: 0.4813 - val_accuracy: 0.9091\n",
            "Epoch 29/1000\n",
            "140/167 [========================>.....] - ETA: 0s - loss: 1.0422 - accuracy: 0.6318\n",
            "Epoch 29: saving model to model\\slr_model.hdf5_2\n"
          ]
        },
        {
          "name": "stderr",
          "output_type": "stream",
          "text": [
            "WARNING:absl:Found untraced functions such as _update_step_xla while saving (showing 1 of 1). These functions will not be directly callable after loading.\n"
          ]
        },
        {
          "name": "stdout",
          "output_type": "stream",
          "text": [
            "INFO:tensorflow:Assets written to: model\\slr_model.hdf5_2\\assets\n"
          ]
        },
        {
          "name": "stderr",
          "output_type": "stream",
          "text": [
            "INFO:tensorflow:Assets written to: model\\slr_model.hdf5_2\\assets\n"
          ]
        },
        {
          "name": "stdout",
          "output_type": "stream",
          "text": [
            "167/167 [==============================] - 1s 7ms/step - loss: 1.0419 - accuracy: 0.6308 - val_loss: 0.4682 - val_accuracy: 0.9168\n",
            "Epoch 30/1000\n",
            "145/167 [=========================>....] - ETA: 0s - loss: 1.0459 - accuracy: 0.6287\n",
            "Epoch 30: saving model to model\\slr_model.hdf5_2\n"
          ]
        },
        {
          "name": "stderr",
          "output_type": "stream",
          "text": [
            "WARNING:absl:Found untraced functions such as _update_step_xla while saving (showing 1 of 1). These functions will not be directly callable after loading.\n"
          ]
        },
        {
          "name": "stdout",
          "output_type": "stream",
          "text": [
            "INFO:tensorflow:Assets written to: model\\slr_model.hdf5_2\\assets\n"
          ]
        },
        {
          "name": "stderr",
          "output_type": "stream",
          "text": [
            "INFO:tensorflow:Assets written to: model\\slr_model.hdf5_2\\assets\n"
          ]
        },
        {
          "name": "stdout",
          "output_type": "stream",
          "text": [
            "167/167 [==============================] - 1s 9ms/step - loss: 1.0481 - accuracy: 0.6278 - val_loss: 0.4747 - val_accuracy: 0.9475\n",
            "Epoch 31/1000\n",
            "133/167 [======================>.......] - ETA: 0s - loss: 1.0389 - accuracy: 0.6334\n",
            "Epoch 31: saving model to model\\slr_model.hdf5_2\n"
          ]
        },
        {
          "name": "stderr",
          "output_type": "stream",
          "text": [
            "WARNING:absl:Found untraced functions such as _update_step_xla while saving (showing 1 of 1). These functions will not be directly callable after loading.\n"
          ]
        },
        {
          "name": "stdout",
          "output_type": "stream",
          "text": [
            "INFO:tensorflow:Assets written to: model\\slr_model.hdf5_2\\assets\n"
          ]
        },
        {
          "name": "stderr",
          "output_type": "stream",
          "text": [
            "INFO:tensorflow:Assets written to: model\\slr_model.hdf5_2\\assets\n"
          ]
        },
        {
          "name": "stdout",
          "output_type": "stream",
          "text": [
            "167/167 [==============================] - 1s 7ms/step - loss: 1.0379 - accuracy: 0.6348 - val_loss: 0.4536 - val_accuracy: 0.9165\n",
            "Epoch 32/1000\n",
            "133/167 [======================>.......] - ETA: 0s - loss: 1.0153 - accuracy: 0.6406\n",
            "Epoch 32: saving model to model\\slr_model.hdf5_2\n"
          ]
        },
        {
          "name": "stderr",
          "output_type": "stream",
          "text": [
            "WARNING:absl:Found untraced functions such as _update_step_xla while saving (showing 1 of 1). These functions will not be directly callable after loading.\n"
          ]
        },
        {
          "name": "stdout",
          "output_type": "stream",
          "text": [
            "INFO:tensorflow:Assets written to: model\\slr_model.hdf5_2\\assets\n"
          ]
        },
        {
          "name": "stderr",
          "output_type": "stream",
          "text": [
            "INFO:tensorflow:Assets written to: model\\slr_model.hdf5_2\\assets\n"
          ]
        },
        {
          "name": "stdout",
          "output_type": "stream",
          "text": [
            "167/167 [==============================] - 1s 7ms/step - loss: 1.0200 - accuracy: 0.6393 - val_loss: 0.4434 - val_accuracy: 0.9485\n",
            "Epoch 33/1000\n",
            "129/167 [======================>.......] - ETA: 0s - loss: 1.0215 - accuracy: 0.6401\n",
            "Epoch 33: saving model to model\\slr_model.hdf5_2\n"
          ]
        },
        {
          "name": "stderr",
          "output_type": "stream",
          "text": [
            "WARNING:absl:Found untraced functions such as _update_step_xla while saving (showing 1 of 1). These functions will not be directly callable after loading.\n"
          ]
        },
        {
          "name": "stdout",
          "output_type": "stream",
          "text": [
            "INFO:tensorflow:Assets written to: model\\slr_model.hdf5_2\\assets\n"
          ]
        },
        {
          "name": "stderr",
          "output_type": "stream",
          "text": [
            "INFO:tensorflow:Assets written to: model\\slr_model.hdf5_2\\assets\n"
          ]
        },
        {
          "name": "stdout",
          "output_type": "stream",
          "text": [
            "167/167 [==============================] - 1s 7ms/step - loss: 1.0175 - accuracy: 0.6409 - val_loss: 0.4358 - val_accuracy: 0.9147\n",
            "Epoch 34/1000\n",
            "145/167 [=========================>....] - ETA: 0s - loss: 1.0122 - accuracy: 0.6414\n",
            "Epoch 34: saving model to model\\slr_model.hdf5_2\n"
          ]
        },
        {
          "name": "stderr",
          "output_type": "stream",
          "text": [
            "WARNING:absl:Found untraced functions such as _update_step_xla while saving (showing 1 of 1). These functions will not be directly callable after loading.\n"
          ]
        },
        {
          "name": "stdout",
          "output_type": "stream",
          "text": [
            "INFO:tensorflow:Assets written to: model\\slr_model.hdf5_2\\assets\n"
          ]
        },
        {
          "name": "stderr",
          "output_type": "stream",
          "text": [
            "INFO:tensorflow:Assets written to: model\\slr_model.hdf5_2\\assets\n"
          ]
        },
        {
          "name": "stdout",
          "output_type": "stream",
          "text": [
            "167/167 [==============================] - 1s 9ms/step - loss: 1.0167 - accuracy: 0.6396 - val_loss: 0.4389 - val_accuracy: 0.9211\n",
            "Epoch 35/1000\n",
            "128/167 [=====================>........] - ETA: 0s - loss: 1.0016 - accuracy: 0.6479\n",
            "Epoch 35: saving model to model\\slr_model.hdf5_2\n"
          ]
        },
        {
          "name": "stderr",
          "output_type": "stream",
          "text": [
            "WARNING:absl:Found untraced functions such as _update_step_xla while saving (showing 1 of 1). These functions will not be directly callable after loading.\n"
          ]
        },
        {
          "name": "stdout",
          "output_type": "stream",
          "text": [
            "INFO:tensorflow:Assets written to: model\\slr_model.hdf5_2\\assets\n"
          ]
        },
        {
          "name": "stderr",
          "output_type": "stream",
          "text": [
            "INFO:tensorflow:Assets written to: model\\slr_model.hdf5_2\\assets\n"
          ]
        },
        {
          "name": "stdout",
          "output_type": "stream",
          "text": [
            "167/167 [==============================] - 1s 9ms/step - loss: 0.9987 - accuracy: 0.6488 - val_loss: 0.4195 - val_accuracy: 0.9291\n",
            "Epoch 36/1000\n",
            "167/167 [==============================] - ETA: 0s - loss: 0.9989 - accuracy: 0.6467\n",
            "Epoch 36: saving model to model\\slr_model.hdf5_2\n"
          ]
        },
        {
          "name": "stderr",
          "output_type": "stream",
          "text": [
            "WARNING:absl:Found untraced functions such as _update_step_xla while saving (showing 1 of 1). These functions will not be directly callable after loading.\n"
          ]
        },
        {
          "name": "stdout",
          "output_type": "stream",
          "text": [
            "INFO:tensorflow:Assets written to: model\\slr_model.hdf5_2\\assets\n"
          ]
        },
        {
          "name": "stderr",
          "output_type": "stream",
          "text": [
            "INFO:tensorflow:Assets written to: model\\slr_model.hdf5_2\\assets\n"
          ]
        },
        {
          "name": "stdout",
          "output_type": "stream",
          "text": [
            "167/167 [==============================] - 1s 7ms/step - loss: 0.9989 - accuracy: 0.6467 - val_loss: 0.4132 - val_accuracy: 0.9699\n",
            "Epoch 37/1000\n",
            "126/167 [=====================>........] - ETA: 0s - loss: 0.9941 - accuracy: 0.6481\n",
            "Epoch 37: saving model to model\\slr_model.hdf5_2\n"
          ]
        },
        {
          "name": "stderr",
          "output_type": "stream",
          "text": [
            "WARNING:absl:Found untraced functions such as _update_step_xla while saving (showing 1 of 1). These functions will not be directly callable after loading.\n"
          ]
        },
        {
          "name": "stdout",
          "output_type": "stream",
          "text": [
            "INFO:tensorflow:Assets written to: model\\slr_model.hdf5_2\\assets\n"
          ]
        },
        {
          "name": "stderr",
          "output_type": "stream",
          "text": [
            "INFO:tensorflow:Assets written to: model\\slr_model.hdf5_2\\assets\n"
          ]
        },
        {
          "name": "stdout",
          "output_type": "stream",
          "text": [
            "167/167 [==============================] - 1s 7ms/step - loss: 0.9977 - accuracy: 0.6467 - val_loss: 0.4134 - val_accuracy: 0.9176\n",
            "Epoch 38/1000\n",
            "122/167 [====================>.........] - ETA: 0s - loss: 0.9931 - accuracy: 0.6555\n",
            "Epoch 38: saving model to model\\slr_model.hdf5_2\n"
          ]
        },
        {
          "name": "stderr",
          "output_type": "stream",
          "text": [
            "WARNING:absl:Found untraced functions such as _update_step_xla while saving (showing 1 of 1). These functions will not be directly callable after loading.\n"
          ]
        },
        {
          "name": "stdout",
          "output_type": "stream",
          "text": [
            "INFO:tensorflow:Assets written to: model\\slr_model.hdf5_2\\assets\n"
          ]
        },
        {
          "name": "stderr",
          "output_type": "stream",
          "text": [
            "INFO:tensorflow:Assets written to: model\\slr_model.hdf5_2\\assets\n"
          ]
        },
        {
          "name": "stdout",
          "output_type": "stream",
          "text": [
            "167/167 [==============================] - 1s 7ms/step - loss: 0.9886 - accuracy: 0.6559 - val_loss: 0.4095 - val_accuracy: 0.9493\n",
            "Epoch 39/1000\n",
            "130/167 [======================>.......] - ETA: 0s - loss: 0.9869 - accuracy: 0.6542\n",
            "Epoch 39: saving model to model\\slr_model.hdf5_2\n"
          ]
        },
        {
          "name": "stderr",
          "output_type": "stream",
          "text": [
            "WARNING:absl:Found untraced functions such as _update_step_xla while saving (showing 1 of 1). These functions will not be directly callable after loading.\n"
          ]
        },
        {
          "name": "stdout",
          "output_type": "stream",
          "text": [
            "INFO:tensorflow:Assets written to: model\\slr_model.hdf5_2\\assets\n"
          ]
        },
        {
          "name": "stderr",
          "output_type": "stream",
          "text": [
            "INFO:tensorflow:Assets written to: model\\slr_model.hdf5_2\\assets\n"
          ]
        },
        {
          "name": "stdout",
          "output_type": "stream",
          "text": [
            "167/167 [==============================] - 1s 7ms/step - loss: 0.9816 - accuracy: 0.6566 - val_loss: 0.3964 - val_accuracy: 0.9573\n",
            "Epoch 40/1000\n",
            "153/167 [==========================>...] - ETA: 0s - loss: 0.9791 - accuracy: 0.6552\n",
            "Epoch 40: saving model to model\\slr_model.hdf5_2\n"
          ]
        },
        {
          "name": "stderr",
          "output_type": "stream",
          "text": [
            "WARNING:absl:Found untraced functions such as _update_step_xla while saving (showing 1 of 1). These functions will not be directly callable after loading.\n"
          ]
        },
        {
          "name": "stdout",
          "output_type": "stream",
          "text": [
            "INFO:tensorflow:Assets written to: model\\slr_model.hdf5_2\\assets\n"
          ]
        },
        {
          "name": "stderr",
          "output_type": "stream",
          "text": [
            "INFO:tensorflow:Assets written to: model\\slr_model.hdf5_2\\assets\n"
          ]
        },
        {
          "name": "stdout",
          "output_type": "stream",
          "text": [
            "167/167 [==============================] - 1s 8ms/step - loss: 0.9759 - accuracy: 0.6566 - val_loss: 0.3906 - val_accuracy: 0.9525\n",
            "Epoch 41/1000\n",
            "128/167 [=====================>........] - ETA: 0s - loss: 0.9894 - accuracy: 0.6514\n",
            "Epoch 41: saving model to model\\slr_model.hdf5_2\n"
          ]
        },
        {
          "name": "stderr",
          "output_type": "stream",
          "text": [
            "WARNING:absl:Found untraced functions such as _update_step_xla while saving (showing 1 of 1). These functions will not be directly callable after loading.\n"
          ]
        },
        {
          "name": "stdout",
          "output_type": "stream",
          "text": [
            "INFO:tensorflow:Assets written to: model\\slr_model.hdf5_2\\assets\n"
          ]
        },
        {
          "name": "stderr",
          "output_type": "stream",
          "text": [
            "INFO:tensorflow:Assets written to: model\\slr_model.hdf5_2\\assets\n"
          ]
        },
        {
          "name": "stdout",
          "output_type": "stream",
          "text": [
            "167/167 [==============================] - 1s 8ms/step - loss: 0.9922 - accuracy: 0.6517 - val_loss: 0.4034 - val_accuracy: 0.9493\n",
            "Epoch 42/1000\n",
            "153/167 [==========================>...] - ETA: 0s - loss: 0.9593 - accuracy: 0.6650\n",
            "Epoch 42: saving model to model\\slr_model.hdf5_2\n"
          ]
        },
        {
          "name": "stderr",
          "output_type": "stream",
          "text": [
            "WARNING:absl:Found untraced functions such as _update_step_xla while saving (showing 1 of 1). These functions will not be directly callable after loading.\n"
          ]
        },
        {
          "name": "stdout",
          "output_type": "stream",
          "text": [
            "INFO:tensorflow:Assets written to: model\\slr_model.hdf5_2\\assets\n"
          ]
        },
        {
          "name": "stderr",
          "output_type": "stream",
          "text": [
            "INFO:tensorflow:Assets written to: model\\slr_model.hdf5_2\\assets\n"
          ]
        },
        {
          "name": "stdout",
          "output_type": "stream",
          "text": [
            "167/167 [==============================] - 1s 7ms/step - loss: 0.9571 - accuracy: 0.6647 - val_loss: 0.3814 - val_accuracy: 0.9675\n",
            "Epoch 43/1000\n",
            "136/167 [=======================>......] - ETA: 0s - loss: 0.9605 - accuracy: 0.6668\n",
            "Epoch 43: saving model to model\\slr_model.hdf5_2\n"
          ]
        },
        {
          "name": "stderr",
          "output_type": "stream",
          "text": [
            "WARNING:absl:Found untraced functions such as _update_step_xla while saving (showing 1 of 1). These functions will not be directly callable after loading.\n"
          ]
        },
        {
          "name": "stdout",
          "output_type": "stream",
          "text": [
            "INFO:tensorflow:Assets written to: model\\slr_model.hdf5_2\\assets\n"
          ]
        },
        {
          "name": "stderr",
          "output_type": "stream",
          "text": [
            "INFO:tensorflow:Assets written to: model\\slr_model.hdf5_2\\assets\n"
          ]
        },
        {
          "name": "stdout",
          "output_type": "stream",
          "text": [
            "167/167 [==============================] - 1s 8ms/step - loss: 0.9536 - accuracy: 0.6682 - val_loss: 0.3790 - val_accuracy: 0.9563\n",
            "Epoch 44/1000\n",
            "159/167 [===========================>..] - ETA: 0s - loss: 0.9511 - accuracy: 0.6631\n",
            "Epoch 44: saving model to model\\slr_model.hdf5_2\n"
          ]
        },
        {
          "name": "stderr",
          "output_type": "stream",
          "text": [
            "WARNING:absl:Found untraced functions such as _update_step_xla while saving (showing 1 of 1). These functions will not be directly callable after loading.\n"
          ]
        },
        {
          "name": "stdout",
          "output_type": "stream",
          "text": [
            "INFO:tensorflow:Assets written to: model\\slr_model.hdf5_2\\assets\n"
          ]
        },
        {
          "name": "stderr",
          "output_type": "stream",
          "text": [
            "INFO:tensorflow:Assets written to: model\\slr_model.hdf5_2\\assets\n"
          ]
        },
        {
          "name": "stdout",
          "output_type": "stream",
          "text": [
            "167/167 [==============================] - 2s 9ms/step - loss: 0.9533 - accuracy: 0.6633 - val_loss: 0.3738 - val_accuracy: 0.9336\n",
            "Epoch 45/1000\n",
            "139/167 [=======================>......] - ETA: 0s - loss: 0.9483 - accuracy: 0.6659\n",
            "Epoch 45: saving model to model\\slr_model.hdf5_2\n"
          ]
        },
        {
          "name": "stderr",
          "output_type": "stream",
          "text": [
            "WARNING:absl:Found untraced functions such as _update_step_xla while saving (showing 1 of 1). These functions will not be directly callable after loading.\n"
          ]
        },
        {
          "name": "stdout",
          "output_type": "stream",
          "text": [
            "INFO:tensorflow:Assets written to: model\\slr_model.hdf5_2\\assets\n"
          ]
        },
        {
          "name": "stderr",
          "output_type": "stream",
          "text": [
            "INFO:tensorflow:Assets written to: model\\slr_model.hdf5_2\\assets\n"
          ]
        },
        {
          "name": "stdout",
          "output_type": "stream",
          "text": [
            "167/167 [==============================] - 1s 7ms/step - loss: 0.9460 - accuracy: 0.6664 - val_loss: 0.3728 - val_accuracy: 0.9565\n",
            "Epoch 46/1000\n",
            "148/167 [=========================>....] - ETA: 0s - loss: 0.9587 - accuracy: 0.6626\n",
            "Epoch 46: saving model to model\\slr_model.hdf5_2\n"
          ]
        },
        {
          "name": "stderr",
          "output_type": "stream",
          "text": [
            "WARNING:absl:Found untraced functions such as _update_step_xla while saving (showing 1 of 1). These functions will not be directly callable after loading.\n"
          ]
        },
        {
          "name": "stdout",
          "output_type": "stream",
          "text": [
            "INFO:tensorflow:Assets written to: model\\slr_model.hdf5_2\\assets\n"
          ]
        },
        {
          "name": "stderr",
          "output_type": "stream",
          "text": [
            "INFO:tensorflow:Assets written to: model\\slr_model.hdf5_2\\assets\n"
          ]
        },
        {
          "name": "stdout",
          "output_type": "stream",
          "text": [
            "167/167 [==============================] - 1s 9ms/step - loss: 0.9557 - accuracy: 0.6640 - val_loss: 0.3660 - val_accuracy: 0.9581\n",
            "Epoch 47/1000\n",
            "153/167 [==========================>...] - ETA: 0s - loss: 0.9470 - accuracy: 0.6686\n",
            "Epoch 47: saving model to model\\slr_model.hdf5_2\n"
          ]
        },
        {
          "name": "stderr",
          "output_type": "stream",
          "text": [
            "WARNING:absl:Found untraced functions such as _update_step_xla while saving (showing 1 of 1). These functions will not be directly callable after loading.\n"
          ]
        },
        {
          "name": "stdout",
          "output_type": "stream",
          "text": [
            "INFO:tensorflow:Assets written to: model\\slr_model.hdf5_2\\assets\n"
          ]
        },
        {
          "name": "stderr",
          "output_type": "stream",
          "text": [
            "INFO:tensorflow:Assets written to: model\\slr_model.hdf5_2\\assets\n"
          ]
        },
        {
          "name": "stdout",
          "output_type": "stream",
          "text": [
            "167/167 [==============================] - 1s 7ms/step - loss: 0.9462 - accuracy: 0.6680 - val_loss: 0.3674 - val_accuracy: 0.9533\n",
            "Epoch 48/1000\n",
            "155/167 [==========================>...] - ETA: 0s - loss: 0.9381 - accuracy: 0.6703\n",
            "Epoch 48: saving model to model\\slr_model.hdf5_2\n"
          ]
        },
        {
          "name": "stderr",
          "output_type": "stream",
          "text": [
            "WARNING:absl:Found untraced functions such as _update_step_xla while saving (showing 1 of 1). These functions will not be directly callable after loading.\n"
          ]
        },
        {
          "name": "stdout",
          "output_type": "stream",
          "text": [
            "INFO:tensorflow:Assets written to: model\\slr_model.hdf5_2\\assets\n"
          ]
        },
        {
          "name": "stderr",
          "output_type": "stream",
          "text": [
            "INFO:tensorflow:Assets written to: model\\slr_model.hdf5_2\\assets\n"
          ]
        },
        {
          "name": "stdout",
          "output_type": "stream",
          "text": [
            "167/167 [==============================] - 2s 9ms/step - loss: 0.9376 - accuracy: 0.6694 - val_loss: 0.3577 - val_accuracy: 0.9547\n",
            "Epoch 49/1000\n",
            "145/167 [=========================>....] - ETA: 0s - loss: 0.9278 - accuracy: 0.6749\n",
            "Epoch 49: saving model to model\\slr_model.hdf5_2\n"
          ]
        },
        {
          "name": "stderr",
          "output_type": "stream",
          "text": [
            "WARNING:absl:Found untraced functions such as _update_step_xla while saving (showing 1 of 1). These functions will not be directly callable after loading.\n"
          ]
        },
        {
          "name": "stdout",
          "output_type": "stream",
          "text": [
            "INFO:tensorflow:Assets written to: model\\slr_model.hdf5_2\\assets\n"
          ]
        },
        {
          "name": "stderr",
          "output_type": "stream",
          "text": [
            "INFO:tensorflow:Assets written to: model\\slr_model.hdf5_2\\assets\n"
          ]
        },
        {
          "name": "stdout",
          "output_type": "stream",
          "text": [
            "167/167 [==============================] - 1s 7ms/step - loss: 0.9256 - accuracy: 0.6761 - val_loss: 0.3644 - val_accuracy: 0.9525\n",
            "Epoch 50/1000\n",
            "162/167 [============================>.] - ETA: 0s - loss: 0.9293 - accuracy: 0.6719\n",
            "Epoch 50: saving model to model\\slr_model.hdf5_2\n"
          ]
        },
        {
          "name": "stderr",
          "output_type": "stream",
          "text": [
            "WARNING:absl:Found untraced functions such as _update_step_xla while saving (showing 1 of 1). These functions will not be directly callable after loading.\n"
          ]
        },
        {
          "name": "stdout",
          "output_type": "stream",
          "text": [
            "INFO:tensorflow:Assets written to: model\\slr_model.hdf5_2\\assets\n"
          ]
        },
        {
          "name": "stderr",
          "output_type": "stream",
          "text": [
            "INFO:tensorflow:Assets written to: model\\slr_model.hdf5_2\\assets\n"
          ]
        },
        {
          "name": "stdout",
          "output_type": "stream",
          "text": [
            "167/167 [==============================] - 1s 7ms/step - loss: 0.9297 - accuracy: 0.6719 - val_loss: 0.3633 - val_accuracy: 0.9504\n",
            "Epoch 51/1000\n",
            "165/167 [============================>.] - ETA: 0s - loss: 0.9247 - accuracy: 0.6752\n",
            "Epoch 51: saving model to model\\slr_model.hdf5_2\n"
          ]
        },
        {
          "name": "stderr",
          "output_type": "stream",
          "text": [
            "WARNING:absl:Found untraced functions such as _update_step_xla while saving (showing 1 of 1). These functions will not be directly callable after loading.\n"
          ]
        },
        {
          "name": "stdout",
          "output_type": "stream",
          "text": [
            "INFO:tensorflow:Assets written to: model\\slr_model.hdf5_2\\assets\n"
          ]
        },
        {
          "name": "stderr",
          "output_type": "stream",
          "text": [
            "INFO:tensorflow:Assets written to: model\\slr_model.hdf5_2\\assets\n"
          ]
        },
        {
          "name": "stdout",
          "output_type": "stream",
          "text": [
            "167/167 [==============================] - 1s 7ms/step - loss: 0.9241 - accuracy: 0.6755 - val_loss: 0.3591 - val_accuracy: 0.9448\n",
            "Epoch 52/1000\n",
            "145/167 [=========================>....] - ETA: 0s - loss: 0.9202 - accuracy: 0.6770\n",
            "Epoch 52: saving model to model\\slr_model.hdf5_2\n"
          ]
        },
        {
          "name": "stderr",
          "output_type": "stream",
          "text": [
            "WARNING:absl:Found untraced functions such as _update_step_xla while saving (showing 1 of 1). These functions will not be directly callable after loading.\n"
          ]
        },
        {
          "name": "stdout",
          "output_type": "stream",
          "text": [
            "INFO:tensorflow:Assets written to: model\\slr_model.hdf5_2\\assets\n"
          ]
        },
        {
          "name": "stderr",
          "output_type": "stream",
          "text": [
            "INFO:tensorflow:Assets written to: model\\slr_model.hdf5_2\\assets\n"
          ]
        },
        {
          "name": "stdout",
          "output_type": "stream",
          "text": [
            "167/167 [==============================] - 2s 11ms/step - loss: 0.9177 - accuracy: 0.6770 - val_loss: 0.3511 - val_accuracy: 0.9603\n",
            "Epoch 53/1000\n",
            "140/167 [========================>.....] - ETA: 0s - loss: 0.9193 - accuracy: 0.6751\n",
            "Epoch 53: saving model to model\\slr_model.hdf5_2\n"
          ]
        },
        {
          "name": "stderr",
          "output_type": "stream",
          "text": [
            "WARNING:absl:Found untraced functions such as _update_step_xla while saving (showing 1 of 1). These functions will not be directly callable after loading.\n"
          ]
        },
        {
          "name": "stdout",
          "output_type": "stream",
          "text": [
            "INFO:tensorflow:Assets written to: model\\slr_model.hdf5_2\\assets\n"
          ]
        },
        {
          "name": "stderr",
          "output_type": "stream",
          "text": [
            "INFO:tensorflow:Assets written to: model\\slr_model.hdf5_2\\assets\n"
          ]
        },
        {
          "name": "stdout",
          "output_type": "stream",
          "text": [
            "167/167 [==============================] - 2s 9ms/step - loss: 0.9165 - accuracy: 0.6775 - val_loss: 0.3541 - val_accuracy: 0.9528\n",
            "Epoch 54/1000\n",
            "146/167 [=========================>....] - ETA: 0s - loss: 0.9196 - accuracy: 0.6777\n",
            "Epoch 54: saving model to model\\slr_model.hdf5_2\n"
          ]
        },
        {
          "name": "stderr",
          "output_type": "stream",
          "text": [
            "WARNING:absl:Found untraced functions such as _update_step_xla while saving (showing 1 of 1). These functions will not be directly callable after loading.\n"
          ]
        },
        {
          "name": "stdout",
          "output_type": "stream",
          "text": [
            "INFO:tensorflow:Assets written to: model\\slr_model.hdf5_2\\assets\n"
          ]
        },
        {
          "name": "stderr",
          "output_type": "stream",
          "text": [
            "INFO:tensorflow:Assets written to: model\\slr_model.hdf5_2\\assets\n"
          ]
        },
        {
          "name": "stdout",
          "output_type": "stream",
          "text": [
            "167/167 [==============================] - 1s 8ms/step - loss: 0.9146 - accuracy: 0.6799 - val_loss: 0.3418 - val_accuracy: 0.9547\n",
            "Epoch 55/1000\n",
            "160/167 [===========================>..] - ETA: 0s - loss: 0.9084 - accuracy: 0.6796\n",
            "Epoch 55: saving model to model\\slr_model.hdf5_2\n"
          ]
        },
        {
          "name": "stderr",
          "output_type": "stream",
          "text": [
            "WARNING:absl:Found untraced functions such as _update_step_xla while saving (showing 1 of 1). These functions will not be directly callable after loading.\n"
          ]
        },
        {
          "name": "stdout",
          "output_type": "stream",
          "text": [
            "INFO:tensorflow:Assets written to: model\\slr_model.hdf5_2\\assets\n"
          ]
        },
        {
          "name": "stderr",
          "output_type": "stream",
          "text": [
            "INFO:tensorflow:Assets written to: model\\slr_model.hdf5_2\\assets\n"
          ]
        },
        {
          "name": "stdout",
          "output_type": "stream",
          "text": [
            "167/167 [==============================] - 1s 7ms/step - loss: 0.9102 - accuracy: 0.6786 - val_loss: 0.3528 - val_accuracy: 0.9525\n",
            "Epoch 56/1000\n",
            "139/167 [=======================>......] - ETA: 0s - loss: 0.9093 - accuracy: 0.6810\n",
            "Epoch 56: saving model to model\\slr_model.hdf5_2\n"
          ]
        },
        {
          "name": "stderr",
          "output_type": "stream",
          "text": [
            "WARNING:absl:Found untraced functions such as _update_step_xla while saving (showing 1 of 1). These functions will not be directly callable after loading.\n"
          ]
        },
        {
          "name": "stdout",
          "output_type": "stream",
          "text": [
            "INFO:tensorflow:Assets written to: model\\slr_model.hdf5_2\\assets\n"
          ]
        },
        {
          "name": "stderr",
          "output_type": "stream",
          "text": [
            "INFO:tensorflow:Assets written to: model\\slr_model.hdf5_2\\assets\n"
          ]
        },
        {
          "name": "stdout",
          "output_type": "stream",
          "text": [
            "167/167 [==============================] - 1s 7ms/step - loss: 0.9096 - accuracy: 0.6800 - val_loss: 0.3464 - val_accuracy: 0.9536\n",
            "Epoch 57/1000\n",
            "129/167 [======================>.......] - ETA: 0s - loss: 0.8828 - accuracy: 0.6863\n",
            "Epoch 57: saving model to model\\slr_model.hdf5_2\n"
          ]
        },
        {
          "name": "stderr",
          "output_type": "stream",
          "text": [
            "WARNING:absl:Found untraced functions such as _update_step_xla while saving (showing 1 of 1). These functions will not be directly callable after loading.\n"
          ]
        },
        {
          "name": "stdout",
          "output_type": "stream",
          "text": [
            "INFO:tensorflow:Assets written to: model\\slr_model.hdf5_2\\assets\n"
          ]
        },
        {
          "name": "stderr",
          "output_type": "stream",
          "text": [
            "INFO:tensorflow:Assets written to: model\\slr_model.hdf5_2\\assets\n"
          ]
        },
        {
          "name": "stdout",
          "output_type": "stream",
          "text": [
            "167/167 [==============================] - 1s 7ms/step - loss: 0.8874 - accuracy: 0.6863 - val_loss: 0.3386 - val_accuracy: 0.9547\n",
            "Epoch 58/1000\n",
            "166/167 [============================>.] - ETA: 0s - loss: 0.8958 - accuracy: 0.6885\n",
            "Epoch 58: saving model to model\\slr_model.hdf5_2\n"
          ]
        },
        {
          "name": "stderr",
          "output_type": "stream",
          "text": [
            "WARNING:absl:Found untraced functions such as _update_step_xla while saving (showing 1 of 1). These functions will not be directly callable after loading.\n"
          ]
        },
        {
          "name": "stdout",
          "output_type": "stream",
          "text": [
            "INFO:tensorflow:Assets written to: model\\slr_model.hdf5_2\\assets\n"
          ]
        },
        {
          "name": "stderr",
          "output_type": "stream",
          "text": [
            "INFO:tensorflow:Assets written to: model\\slr_model.hdf5_2\\assets\n"
          ]
        },
        {
          "name": "stdout",
          "output_type": "stream",
          "text": [
            "167/167 [==============================] - 1s 8ms/step - loss: 0.8958 - accuracy: 0.6885 - val_loss: 0.3380 - val_accuracy: 0.9560\n",
            "Epoch 59/1000\n",
            "130/167 [======================>.......] - ETA: 0s - loss: 0.8939 - accuracy: 0.6859\n",
            "Epoch 59: saving model to model\\slr_model.hdf5_2\n"
          ]
        },
        {
          "name": "stderr",
          "output_type": "stream",
          "text": [
            "WARNING:absl:Found untraced functions such as _update_step_xla while saving (showing 1 of 1). These functions will not be directly callable after loading.\n"
          ]
        },
        {
          "name": "stdout",
          "output_type": "stream",
          "text": [
            "INFO:tensorflow:Assets written to: model\\slr_model.hdf5_2\\assets\n"
          ]
        },
        {
          "name": "stderr",
          "output_type": "stream",
          "text": [
            "INFO:tensorflow:Assets written to: model\\slr_model.hdf5_2\\assets\n"
          ]
        },
        {
          "name": "stdout",
          "output_type": "stream",
          "text": [
            "167/167 [==============================] - 1s 7ms/step - loss: 0.8906 - accuracy: 0.6863 - val_loss: 0.3281 - val_accuracy: 0.9541\n",
            "Epoch 60/1000\n",
            "129/167 [======================>.......] - ETA: 0s - loss: 0.8985 - accuracy: 0.6857\n",
            "Epoch 60: saving model to model\\slr_model.hdf5_2\n"
          ]
        },
        {
          "name": "stderr",
          "output_type": "stream",
          "text": [
            "WARNING:absl:Found untraced functions such as _update_step_xla while saving (showing 1 of 1). These functions will not be directly callable after loading.\n"
          ]
        },
        {
          "name": "stdout",
          "output_type": "stream",
          "text": [
            "INFO:tensorflow:Assets written to: model\\slr_model.hdf5_2\\assets\n"
          ]
        },
        {
          "name": "stderr",
          "output_type": "stream",
          "text": [
            "INFO:tensorflow:Assets written to: model\\slr_model.hdf5_2\\assets\n"
          ]
        },
        {
          "name": "stdout",
          "output_type": "stream",
          "text": [
            "167/167 [==============================] - 1s 7ms/step - loss: 0.8901 - accuracy: 0.6895 - val_loss: 0.3245 - val_accuracy: 0.9565\n",
            "Epoch 61/1000\n",
            "128/167 [=====================>........] - ETA: 0s - loss: 0.8884 - accuracy: 0.6840\n",
            "Epoch 61: saving model to model\\slr_model.hdf5_2\n"
          ]
        },
        {
          "name": "stderr",
          "output_type": "stream",
          "text": [
            "WARNING:absl:Found untraced functions such as _update_step_xla while saving (showing 1 of 1). These functions will not be directly callable after loading.\n"
          ]
        },
        {
          "name": "stdout",
          "output_type": "stream",
          "text": [
            "INFO:tensorflow:Assets written to: model\\slr_model.hdf5_2\\assets\n"
          ]
        },
        {
          "name": "stderr",
          "output_type": "stream",
          "text": [
            "INFO:tensorflow:Assets written to: model\\slr_model.hdf5_2\\assets\n"
          ]
        },
        {
          "name": "stdout",
          "output_type": "stream",
          "text": [
            "167/167 [==============================] - 1s 9ms/step - loss: 0.8904 - accuracy: 0.6846 - val_loss: 0.3314 - val_accuracy: 0.9496\n",
            "Epoch 62/1000\n",
            "150/167 [=========================>....] - ETA: 0s - loss: 0.8862 - accuracy: 0.6890\n",
            "Epoch 62: saving model to model\\slr_model.hdf5_2\n"
          ]
        },
        {
          "name": "stderr",
          "output_type": "stream",
          "text": [
            "WARNING:absl:Found untraced functions such as _update_step_xla while saving (showing 1 of 1). These functions will not be directly callable after loading.\n"
          ]
        },
        {
          "name": "stdout",
          "output_type": "stream",
          "text": [
            "INFO:tensorflow:Assets written to: model\\slr_model.hdf5_2\\assets\n"
          ]
        },
        {
          "name": "stderr",
          "output_type": "stream",
          "text": [
            "INFO:tensorflow:Assets written to: model\\slr_model.hdf5_2\\assets\n"
          ]
        },
        {
          "name": "stdout",
          "output_type": "stream",
          "text": [
            "167/167 [==============================] - 1s 7ms/step - loss: 0.8835 - accuracy: 0.6899 - val_loss: 0.3275 - val_accuracy: 0.9579\n",
            "Epoch 63/1000\n",
            "147/167 [=========================>....] - ETA: 0s - loss: 0.8822 - accuracy: 0.6900\n",
            "Epoch 63: saving model to model\\slr_model.hdf5_2\n"
          ]
        },
        {
          "name": "stderr",
          "output_type": "stream",
          "text": [
            "WARNING:absl:Found untraced functions such as _update_step_xla while saving (showing 1 of 1). These functions will not be directly callable after loading.\n"
          ]
        },
        {
          "name": "stdout",
          "output_type": "stream",
          "text": [
            "INFO:tensorflow:Assets written to: model\\slr_model.hdf5_2\\assets\n"
          ]
        },
        {
          "name": "stderr",
          "output_type": "stream",
          "text": [
            "INFO:tensorflow:Assets written to: model\\slr_model.hdf5_2\\assets\n"
          ]
        },
        {
          "name": "stdout",
          "output_type": "stream",
          "text": [
            "167/167 [==============================] - 1s 7ms/step - loss: 0.8821 - accuracy: 0.6904 - val_loss: 0.3279 - val_accuracy: 0.9541\n",
            "Epoch 64/1000\n",
            "141/167 [========================>.....] - ETA: 0s - loss: 0.8867 - accuracy: 0.6877\n",
            "Epoch 64: saving model to model\\slr_model.hdf5_2\n"
          ]
        },
        {
          "name": "stderr",
          "output_type": "stream",
          "text": [
            "WARNING:absl:Found untraced functions such as _update_step_xla while saving (showing 1 of 1). These functions will not be directly callable after loading.\n"
          ]
        },
        {
          "name": "stdout",
          "output_type": "stream",
          "text": [
            "INFO:tensorflow:Assets written to: model\\slr_model.hdf5_2\\assets\n"
          ]
        },
        {
          "name": "stderr",
          "output_type": "stream",
          "text": [
            "INFO:tensorflow:Assets written to: model\\slr_model.hdf5_2\\assets\n"
          ]
        },
        {
          "name": "stdout",
          "output_type": "stream",
          "text": [
            "167/167 [==============================] - 1s 7ms/step - loss: 0.8827 - accuracy: 0.6890 - val_loss: 0.3181 - val_accuracy: 0.9568\n",
            "Epoch 65/1000\n",
            "152/167 [==========================>...] - ETA: 0s - loss: 0.8782 - accuracy: 0.6919\n",
            "Epoch 65: saving model to model\\slr_model.hdf5_2\n"
          ]
        },
        {
          "name": "stderr",
          "output_type": "stream",
          "text": [
            "WARNING:absl:Found untraced functions such as _update_step_xla while saving (showing 1 of 1). These functions will not be directly callable after loading.\n"
          ]
        },
        {
          "name": "stdout",
          "output_type": "stream",
          "text": [
            "INFO:tensorflow:Assets written to: model\\slr_model.hdf5_2\\assets\n"
          ]
        },
        {
          "name": "stderr",
          "output_type": "stream",
          "text": [
            "INFO:tensorflow:Assets written to: model\\slr_model.hdf5_2\\assets\n"
          ]
        },
        {
          "name": "stdout",
          "output_type": "stream",
          "text": [
            "167/167 [==============================] - 1s 8ms/step - loss: 0.8759 - accuracy: 0.6924 - val_loss: 0.3263 - val_accuracy: 0.9560\n",
            "Epoch 66/1000\n",
            "160/167 [===========================>..] - ETA: 0s - loss: 0.8727 - accuracy: 0.6951\n",
            "Epoch 66: saving model to model\\slr_model.hdf5_2\n"
          ]
        },
        {
          "name": "stderr",
          "output_type": "stream",
          "text": [
            "WARNING:absl:Found untraced functions such as _update_step_xla while saving (showing 1 of 1). These functions will not be directly callable after loading.\n"
          ]
        },
        {
          "name": "stdout",
          "output_type": "stream",
          "text": [
            "INFO:tensorflow:Assets written to: model\\slr_model.hdf5_2\\assets\n"
          ]
        },
        {
          "name": "stderr",
          "output_type": "stream",
          "text": [
            "INFO:tensorflow:Assets written to: model\\slr_model.hdf5_2\\assets\n"
          ]
        },
        {
          "name": "stdout",
          "output_type": "stream",
          "text": [
            "167/167 [==============================] - 2s 9ms/step - loss: 0.8724 - accuracy: 0.6954 - val_loss: 0.3150 - val_accuracy: 0.9560\n",
            "Epoch 67/1000\n",
            "146/167 [=========================>....] - ETA: 0s - loss: 0.8759 - accuracy: 0.6923\n",
            "Epoch 67: saving model to model\\slr_model.hdf5_2\n"
          ]
        },
        {
          "name": "stderr",
          "output_type": "stream",
          "text": [
            "WARNING:absl:Found untraced functions such as _update_step_xla while saving (showing 1 of 1). These functions will not be directly callable after loading.\n"
          ]
        },
        {
          "name": "stdout",
          "output_type": "stream",
          "text": [
            "INFO:tensorflow:Assets written to: model\\slr_model.hdf5_2\\assets\n"
          ]
        },
        {
          "name": "stderr",
          "output_type": "stream",
          "text": [
            "INFO:tensorflow:Assets written to: model\\slr_model.hdf5_2\\assets\n"
          ]
        },
        {
          "name": "stdout",
          "output_type": "stream",
          "text": [
            "167/167 [==============================] - 1s 7ms/step - loss: 0.8714 - accuracy: 0.6936 - val_loss: 0.3114 - val_accuracy: 0.9581\n",
            "Epoch 68/1000\n",
            "141/167 [========================>.....] - ETA: 0s - loss: 0.8703 - accuracy: 0.6903\n",
            "Epoch 68: saving model to model\\slr_model.hdf5_2\n"
          ]
        },
        {
          "name": "stderr",
          "output_type": "stream",
          "text": [
            "WARNING:absl:Found untraced functions such as _update_step_xla while saving (showing 1 of 1). These functions will not be directly callable after loading.\n"
          ]
        },
        {
          "name": "stdout",
          "output_type": "stream",
          "text": [
            "INFO:tensorflow:Assets written to: model\\slr_model.hdf5_2\\assets\n"
          ]
        },
        {
          "name": "stderr",
          "output_type": "stream",
          "text": [
            "INFO:tensorflow:Assets written to: model\\slr_model.hdf5_2\\assets\n"
          ]
        },
        {
          "name": "stdout",
          "output_type": "stream",
          "text": [
            "167/167 [==============================] - 1s 7ms/step - loss: 0.8720 - accuracy: 0.6906 - val_loss: 0.3218 - val_accuracy: 0.9579\n",
            "Epoch 69/1000\n",
            "138/167 [=======================>......] - ETA: 0s - loss: 0.8754 - accuracy: 0.6950\n",
            "Epoch 69: saving model to model\\slr_model.hdf5_2\n"
          ]
        },
        {
          "name": "stderr",
          "output_type": "stream",
          "text": [
            "WARNING:absl:Found untraced functions such as _update_step_xla while saving (showing 1 of 1). These functions will not be directly callable after loading.\n"
          ]
        },
        {
          "name": "stdout",
          "output_type": "stream",
          "text": [
            "INFO:tensorflow:Assets written to: model\\slr_model.hdf5_2\\assets\n"
          ]
        },
        {
          "name": "stderr",
          "output_type": "stream",
          "text": [
            "INFO:tensorflow:Assets written to: model\\slr_model.hdf5_2\\assets\n"
          ]
        },
        {
          "name": "stdout",
          "output_type": "stream",
          "text": [
            "167/167 [==============================] - 1s 9ms/step - loss: 0.8691 - accuracy: 0.6960 - val_loss: 0.3057 - val_accuracy: 0.9557\n",
            "Epoch 70/1000\n",
            "166/167 [============================>.] - ETA: 0s - loss: 0.8710 - accuracy: 0.6942\n",
            "Epoch 70: saving model to model\\slr_model.hdf5_2\n"
          ]
        },
        {
          "name": "stderr",
          "output_type": "stream",
          "text": [
            "WARNING:absl:Found untraced functions such as _update_step_xla while saving (showing 1 of 1). These functions will not be directly callable after loading.\n"
          ]
        },
        {
          "name": "stdout",
          "output_type": "stream",
          "text": [
            "INFO:tensorflow:Assets written to: model\\slr_model.hdf5_2\\assets\n"
          ]
        },
        {
          "name": "stderr",
          "output_type": "stream",
          "text": [
            "INFO:tensorflow:Assets written to: model\\slr_model.hdf5_2\\assets\n"
          ]
        },
        {
          "name": "stdout",
          "output_type": "stream",
          "text": [
            "167/167 [==============================] - 1s 8ms/step - loss: 0.8710 - accuracy: 0.6942 - val_loss: 0.3183 - val_accuracy: 0.9560\n",
            "Epoch 71/1000\n",
            "133/167 [======================>.......] - ETA: 0s - loss: 0.8548 - accuracy: 0.6991\n",
            "Epoch 71: saving model to model\\slr_model.hdf5_2\n"
          ]
        },
        {
          "name": "stderr",
          "output_type": "stream",
          "text": [
            "WARNING:absl:Found untraced functions such as _update_step_xla while saving (showing 1 of 1). These functions will not be directly callable after loading.\n"
          ]
        },
        {
          "name": "stdout",
          "output_type": "stream",
          "text": [
            "INFO:tensorflow:Assets written to: model\\slr_model.hdf5_2\\assets\n"
          ]
        },
        {
          "name": "stderr",
          "output_type": "stream",
          "text": [
            "INFO:tensorflow:Assets written to: model\\slr_model.hdf5_2\\assets\n"
          ]
        },
        {
          "name": "stdout",
          "output_type": "stream",
          "text": [
            "167/167 [==============================] - 1s 7ms/step - loss: 0.8545 - accuracy: 0.6967 - val_loss: 0.3085 - val_accuracy: 0.9557\n",
            "Epoch 72/1000\n",
            "130/167 [======================>.......] - ETA: 0s - loss: 0.8650 - accuracy: 0.6951\n",
            "Epoch 72: saving model to model\\slr_model.hdf5_2\n"
          ]
        },
        {
          "name": "stderr",
          "output_type": "stream",
          "text": [
            "WARNING:absl:Found untraced functions such as _update_step_xla while saving (showing 1 of 1). These functions will not be directly callable after loading.\n"
          ]
        },
        {
          "name": "stdout",
          "output_type": "stream",
          "text": [
            "INFO:tensorflow:Assets written to: model\\slr_model.hdf5_2\\assets\n"
          ]
        },
        {
          "name": "stderr",
          "output_type": "stream",
          "text": [
            "INFO:tensorflow:Assets written to: model\\slr_model.hdf5_2\\assets\n"
          ]
        },
        {
          "name": "stdout",
          "output_type": "stream",
          "text": [
            "167/167 [==============================] - 1s 7ms/step - loss: 0.8613 - accuracy: 0.6947 - val_loss: 0.3033 - val_accuracy: 0.9584\n",
            "Epoch 73/1000\n",
            "135/167 [=======================>......] - ETA: 0s - loss: 0.8481 - accuracy: 0.7032\n",
            "Epoch 73: saving model to model\\slr_model.hdf5_2\n"
          ]
        },
        {
          "name": "stderr",
          "output_type": "stream",
          "text": [
            "WARNING:absl:Found untraced functions such as _update_step_xla while saving (showing 1 of 1). These functions will not be directly callable after loading.\n"
          ]
        },
        {
          "name": "stdout",
          "output_type": "stream",
          "text": [
            "INFO:tensorflow:Assets written to: model\\slr_model.hdf5_2\\assets\n"
          ]
        },
        {
          "name": "stderr",
          "output_type": "stream",
          "text": [
            "INFO:tensorflow:Assets written to: model\\slr_model.hdf5_2\\assets\n"
          ]
        },
        {
          "name": "stdout",
          "output_type": "stream",
          "text": [
            "167/167 [==============================] - 1s 7ms/step - loss: 0.8493 - accuracy: 0.7024 - val_loss: 0.3041 - val_accuracy: 0.9600\n",
            "Epoch 74/1000\n",
            "144/167 [========================>.....] - ETA: 0s - loss: 0.8580 - accuracy: 0.7024\n",
            "Epoch 74: saving model to model\\slr_model.hdf5_2\n"
          ]
        },
        {
          "name": "stderr",
          "output_type": "stream",
          "text": [
            "WARNING:absl:Found untraced functions such as _update_step_xla while saving (showing 1 of 1). These functions will not be directly callable after loading.\n"
          ]
        },
        {
          "name": "stdout",
          "output_type": "stream",
          "text": [
            "INFO:tensorflow:Assets written to: model\\slr_model.hdf5_2\\assets\n"
          ]
        },
        {
          "name": "stderr",
          "output_type": "stream",
          "text": [
            "INFO:tensorflow:Assets written to: model\\slr_model.hdf5_2\\assets\n"
          ]
        },
        {
          "name": "stdout",
          "output_type": "stream",
          "text": [
            "167/167 [==============================] - 1s 7ms/step - loss: 0.8542 - accuracy: 0.7034 - val_loss: 0.3060 - val_accuracy: 0.9603\n",
            "Epoch 75/1000\n",
            "150/167 [=========================>....] - ETA: 0s - loss: 0.8456 - accuracy: 0.7033\n",
            "Epoch 75: saving model to model\\slr_model.hdf5_2\n"
          ]
        },
        {
          "name": "stderr",
          "output_type": "stream",
          "text": [
            "WARNING:absl:Found untraced functions such as _update_step_xla while saving (showing 1 of 1). These functions will not be directly callable after loading.\n"
          ]
        },
        {
          "name": "stdout",
          "output_type": "stream",
          "text": [
            "INFO:tensorflow:Assets written to: model\\slr_model.hdf5_2\\assets\n"
          ]
        },
        {
          "name": "stderr",
          "output_type": "stream",
          "text": [
            "INFO:tensorflow:Assets written to: model\\slr_model.hdf5_2\\assets\n"
          ]
        },
        {
          "name": "stdout",
          "output_type": "stream",
          "text": [
            "167/167 [==============================] - 1s 7ms/step - loss: 0.8419 - accuracy: 0.7059 - val_loss: 0.2987 - val_accuracy: 0.9571\n",
            "Epoch 76/1000\n",
            "145/167 [=========================>....] - ETA: 0s - loss: 0.8424 - accuracy: 0.7059\n",
            "Epoch 76: saving model to model\\slr_model.hdf5_2\n"
          ]
        },
        {
          "name": "stderr",
          "output_type": "stream",
          "text": [
            "WARNING:absl:Found untraced functions such as _update_step_xla while saving (showing 1 of 1). These functions will not be directly callable after loading.\n"
          ]
        },
        {
          "name": "stdout",
          "output_type": "stream",
          "text": [
            "INFO:tensorflow:Assets written to: model\\slr_model.hdf5_2\\assets\n"
          ]
        },
        {
          "name": "stderr",
          "output_type": "stream",
          "text": [
            "INFO:tensorflow:Assets written to: model\\slr_model.hdf5_2\\assets\n"
          ]
        },
        {
          "name": "stdout",
          "output_type": "stream",
          "text": [
            "167/167 [==============================] - 1s 7ms/step - loss: 0.8436 - accuracy: 0.7045 - val_loss: 0.3060 - val_accuracy: 0.9597\n",
            "Epoch 77/1000\n",
            "146/167 [=========================>....] - ETA: 0s - loss: 0.8403 - accuracy: 0.7062\n",
            "Epoch 77: saving model to model\\slr_model.hdf5_2\n"
          ]
        },
        {
          "name": "stderr",
          "output_type": "stream",
          "text": [
            "WARNING:absl:Found untraced functions such as _update_step_xla while saving (showing 1 of 1). These functions will not be directly callable after loading.\n"
          ]
        },
        {
          "name": "stdout",
          "output_type": "stream",
          "text": [
            "INFO:tensorflow:Assets written to: model\\slr_model.hdf5_2\\assets\n"
          ]
        },
        {
          "name": "stderr",
          "output_type": "stream",
          "text": [
            "INFO:tensorflow:Assets written to: model\\slr_model.hdf5_2\\assets\n"
          ]
        },
        {
          "name": "stdout",
          "output_type": "stream",
          "text": [
            "167/167 [==============================] - 1s 7ms/step - loss: 0.8421 - accuracy: 0.7054 - val_loss: 0.3068 - val_accuracy: 0.9403\n",
            "Epoch 78/1000\n",
            "146/167 [=========================>....] - ETA: 0s - loss: 0.8384 - accuracy: 0.7049\n",
            "Epoch 78: saving model to model\\slr_model.hdf5_2\n"
          ]
        },
        {
          "name": "stderr",
          "output_type": "stream",
          "text": [
            "WARNING:absl:Found untraced functions such as _update_step_xla while saving (showing 1 of 1). These functions will not be directly callable after loading.\n"
          ]
        },
        {
          "name": "stdout",
          "output_type": "stream",
          "text": [
            "INFO:tensorflow:Assets written to: model\\slr_model.hdf5_2\\assets\n"
          ]
        },
        {
          "name": "stderr",
          "output_type": "stream",
          "text": [
            "INFO:tensorflow:Assets written to: model\\slr_model.hdf5_2\\assets\n"
          ]
        },
        {
          "name": "stdout",
          "output_type": "stream",
          "text": [
            "167/167 [==============================] - 2s 10ms/step - loss: 0.8369 - accuracy: 0.7048 - val_loss: 0.3064 - val_accuracy: 0.9597\n",
            "Epoch 79/1000\n",
            "142/167 [========================>.....] - ETA: 0s - loss: 0.8311 - accuracy: 0.7048\n",
            "Epoch 79: saving model to model\\slr_model.hdf5_2\n"
          ]
        },
        {
          "name": "stderr",
          "output_type": "stream",
          "text": [
            "WARNING:absl:Found untraced functions such as _update_step_xla while saving (showing 1 of 1). These functions will not be directly callable after loading.\n"
          ]
        },
        {
          "name": "stdout",
          "output_type": "stream",
          "text": [
            "INFO:tensorflow:Assets written to: model\\slr_model.hdf5_2\\assets\n"
          ]
        },
        {
          "name": "stderr",
          "output_type": "stream",
          "text": [
            "INFO:tensorflow:Assets written to: model\\slr_model.hdf5_2\\assets\n"
          ]
        },
        {
          "name": "stdout",
          "output_type": "stream",
          "text": [
            "167/167 [==============================] - 1s 9ms/step - loss: 0.8296 - accuracy: 0.7035 - val_loss: 0.3001 - val_accuracy: 0.9597\n",
            "Epoch 80/1000\n",
            "157/167 [===========================>..] - ETA: 0s - loss: 0.8227 - accuracy: 0.7092\n",
            "Epoch 80: saving model to model\\slr_model.hdf5_2\n"
          ]
        },
        {
          "name": "stderr",
          "output_type": "stream",
          "text": [
            "WARNING:absl:Found untraced functions such as _update_step_xla while saving (showing 1 of 1). These functions will not be directly callable after loading.\n"
          ]
        },
        {
          "name": "stdout",
          "output_type": "stream",
          "text": [
            "INFO:tensorflow:Assets written to: model\\slr_model.hdf5_2\\assets\n"
          ]
        },
        {
          "name": "stderr",
          "output_type": "stream",
          "text": [
            "INFO:tensorflow:Assets written to: model\\slr_model.hdf5_2\\assets\n"
          ]
        },
        {
          "name": "stdout",
          "output_type": "stream",
          "text": [
            "167/167 [==============================] - 1s 7ms/step - loss: 0.8225 - accuracy: 0.7086 - val_loss: 0.2993 - val_accuracy: 0.9571\n",
            "Epoch 81/1000\n",
            "133/167 [======================>.......] - ETA: 0s - loss: 0.8280 - accuracy: 0.7091\n",
            "Epoch 81: saving model to model\\slr_model.hdf5_2\n"
          ]
        },
        {
          "name": "stderr",
          "output_type": "stream",
          "text": [
            "WARNING:absl:Found untraced functions such as _update_step_xla while saving (showing 1 of 1). These functions will not be directly callable after loading.\n"
          ]
        },
        {
          "name": "stdout",
          "output_type": "stream",
          "text": [
            "INFO:tensorflow:Assets written to: model\\slr_model.hdf5_2\\assets\n"
          ]
        },
        {
          "name": "stderr",
          "output_type": "stream",
          "text": [
            "INFO:tensorflow:Assets written to: model\\slr_model.hdf5_2\\assets\n"
          ]
        },
        {
          "name": "stdout",
          "output_type": "stream",
          "text": [
            "167/167 [==============================] - 1s 7ms/step - loss: 0.8304 - accuracy: 0.7089 - val_loss: 0.3001 - val_accuracy: 0.9579\n",
            "Epoch 82/1000\n",
            "155/167 [==========================>...] - ETA: 0s - loss: 0.8257 - accuracy: 0.7096\n",
            "Epoch 82: saving model to model\\slr_model.hdf5_2\n"
          ]
        },
        {
          "name": "stderr",
          "output_type": "stream",
          "text": [
            "WARNING:absl:Found untraced functions such as _update_step_xla while saving (showing 1 of 1). These functions will not be directly callable after loading.\n"
          ]
        },
        {
          "name": "stdout",
          "output_type": "stream",
          "text": [
            "INFO:tensorflow:Assets written to: model\\slr_model.hdf5_2\\assets\n"
          ]
        },
        {
          "name": "stderr",
          "output_type": "stream",
          "text": [
            "INFO:tensorflow:Assets written to: model\\slr_model.hdf5_2\\assets\n"
          ]
        },
        {
          "name": "stdout",
          "output_type": "stream",
          "text": [
            "167/167 [==============================] - 1s 8ms/step - loss: 0.8243 - accuracy: 0.7100 - val_loss: 0.2987 - val_accuracy: 0.9587\n",
            "Epoch 83/1000\n",
            "160/167 [===========================>..] - ETA: 0s - loss: 0.8169 - accuracy: 0.7153\n",
            "Epoch 83: saving model to model\\slr_model.hdf5_2\n"
          ]
        },
        {
          "name": "stderr",
          "output_type": "stream",
          "text": [
            "WARNING:absl:Found untraced functions such as _update_step_xla while saving (showing 1 of 1). These functions will not be directly callable after loading.\n"
          ]
        },
        {
          "name": "stdout",
          "output_type": "stream",
          "text": [
            "INFO:tensorflow:Assets written to: model\\slr_model.hdf5_2\\assets\n"
          ]
        },
        {
          "name": "stderr",
          "output_type": "stream",
          "text": [
            "INFO:tensorflow:Assets written to: model\\slr_model.hdf5_2\\assets\n"
          ]
        },
        {
          "name": "stdout",
          "output_type": "stream",
          "text": [
            "167/167 [==============================] - 1s 7ms/step - loss: 0.8169 - accuracy: 0.7148 - val_loss: 0.2960 - val_accuracy: 0.9597\n",
            "Epoch 84/1000\n",
            "152/167 [==========================>...] - ETA: 0s - loss: 0.8331 - accuracy: 0.7065\n",
            "Epoch 84: saving model to model\\slr_model.hdf5_2\n"
          ]
        },
        {
          "name": "stderr",
          "output_type": "stream",
          "text": [
            "WARNING:absl:Found untraced functions such as _update_step_xla while saving (showing 1 of 1). These functions will not be directly callable after loading.\n"
          ]
        },
        {
          "name": "stdout",
          "output_type": "stream",
          "text": [
            "INFO:tensorflow:Assets written to: model\\slr_model.hdf5_2\\assets\n"
          ]
        },
        {
          "name": "stderr",
          "output_type": "stream",
          "text": [
            "INFO:tensorflow:Assets written to: model\\slr_model.hdf5_2\\assets\n"
          ]
        },
        {
          "name": "stdout",
          "output_type": "stream",
          "text": [
            "167/167 [==============================] - 1s 7ms/step - loss: 0.8339 - accuracy: 0.7060 - val_loss: 0.2971 - val_accuracy: 0.9592\n",
            "Epoch 85/1000\n",
            "128/167 [=====================>........] - ETA: 0s - loss: 0.8190 - accuracy: 0.7084\n",
            "Epoch 85: saving model to model\\slr_model.hdf5_2\n"
          ]
        },
        {
          "name": "stderr",
          "output_type": "stream",
          "text": [
            "WARNING:absl:Found untraced functions such as _update_step_xla while saving (showing 1 of 1). These functions will not be directly callable after loading.\n"
          ]
        },
        {
          "name": "stdout",
          "output_type": "stream",
          "text": [
            "INFO:tensorflow:Assets written to: model\\slr_model.hdf5_2\\assets\n"
          ]
        },
        {
          "name": "stderr",
          "output_type": "stream",
          "text": [
            "INFO:tensorflow:Assets written to: model\\slr_model.hdf5_2\\assets\n"
          ]
        },
        {
          "name": "stdout",
          "output_type": "stream",
          "text": [
            "167/167 [==============================] - 1s 7ms/step - loss: 0.8145 - accuracy: 0.7096 - val_loss: 0.2955 - val_accuracy: 0.9597\n",
            "Epoch 86/1000\n",
            "143/167 [========================>.....] - ETA: 0s - loss: 0.8111 - accuracy: 0.7151\n",
            "Epoch 86: saving model to model\\slr_model.hdf5_2\n"
          ]
        },
        {
          "name": "stderr",
          "output_type": "stream",
          "text": [
            "WARNING:absl:Found untraced functions such as _update_step_xla while saving (showing 1 of 1). These functions will not be directly callable after loading.\n"
          ]
        },
        {
          "name": "stdout",
          "output_type": "stream",
          "text": [
            "INFO:tensorflow:Assets written to: model\\slr_model.hdf5_2\\assets\n"
          ]
        },
        {
          "name": "stderr",
          "output_type": "stream",
          "text": [
            "INFO:tensorflow:Assets written to: model\\slr_model.hdf5_2\\assets\n"
          ]
        },
        {
          "name": "stdout",
          "output_type": "stream",
          "text": [
            "167/167 [==============================] - 1s 7ms/step - loss: 0.8105 - accuracy: 0.7155 - val_loss: 0.2993 - val_accuracy: 0.9589\n",
            "Epoch 87/1000\n",
            "148/167 [=========================>....] - ETA: 0s - loss: 0.8167 - accuracy: 0.7077\n",
            "Epoch 87: saving model to model\\slr_model.hdf5_2\n"
          ]
        },
        {
          "name": "stderr",
          "output_type": "stream",
          "text": [
            "WARNING:absl:Found untraced functions such as _update_step_xla while saving (showing 1 of 1). These functions will not be directly callable after loading.\n"
          ]
        },
        {
          "name": "stdout",
          "output_type": "stream",
          "text": [
            "INFO:tensorflow:Assets written to: model\\slr_model.hdf5_2\\assets\n"
          ]
        },
        {
          "name": "stderr",
          "output_type": "stream",
          "text": [
            "INFO:tensorflow:Assets written to: model\\slr_model.hdf5_2\\assets\n"
          ]
        },
        {
          "name": "stdout",
          "output_type": "stream",
          "text": [
            "167/167 [==============================] - 1s 8ms/step - loss: 0.8110 - accuracy: 0.7111 - val_loss: 0.2868 - val_accuracy: 0.9624\n",
            "Epoch 88/1000\n",
            "151/167 [==========================>...] - ETA: 0s - loss: 0.8084 - accuracy: 0.7180\n",
            "Epoch 88: saving model to model\\slr_model.hdf5_2\n"
          ]
        },
        {
          "name": "stderr",
          "output_type": "stream",
          "text": [
            "WARNING:absl:Found untraced functions such as _update_step_xla while saving (showing 1 of 1). These functions will not be directly callable after loading.\n"
          ]
        },
        {
          "name": "stdout",
          "output_type": "stream",
          "text": [
            "INFO:tensorflow:Assets written to: model\\slr_model.hdf5_2\\assets\n"
          ]
        },
        {
          "name": "stderr",
          "output_type": "stream",
          "text": [
            "INFO:tensorflow:Assets written to: model\\slr_model.hdf5_2\\assets\n"
          ]
        },
        {
          "name": "stdout",
          "output_type": "stream",
          "text": [
            "167/167 [==============================] - 2s 9ms/step - loss: 0.8070 - accuracy: 0.7181 - val_loss: 0.2854 - val_accuracy: 0.9619\n",
            "Epoch 89/1000\n",
            "138/167 [=======================>......] - ETA: 0s - loss: 0.7966 - accuracy: 0.7174\n",
            "Epoch 89: saving model to model\\slr_model.hdf5_2\n"
          ]
        },
        {
          "name": "stderr",
          "output_type": "stream",
          "text": [
            "WARNING:absl:Found untraced functions such as _update_step_xla while saving (showing 1 of 1). These functions will not be directly callable after loading.\n"
          ]
        },
        {
          "name": "stdout",
          "output_type": "stream",
          "text": [
            "INFO:tensorflow:Assets written to: model\\slr_model.hdf5_2\\assets\n"
          ]
        },
        {
          "name": "stderr",
          "output_type": "stream",
          "text": [
            "INFO:tensorflow:Assets written to: model\\slr_model.hdf5_2\\assets\n"
          ]
        },
        {
          "name": "stdout",
          "output_type": "stream",
          "text": [
            "167/167 [==============================] - 1s 7ms/step - loss: 0.7933 - accuracy: 0.7190 - val_loss: 0.2841 - val_accuracy: 0.9560\n",
            "Epoch 90/1000\n",
            "144/167 [========================>.....] - ETA: 0s - loss: 0.8063 - accuracy: 0.7187\n",
            "Epoch 90: saving model to model\\slr_model.hdf5_2\n"
          ]
        },
        {
          "name": "stderr",
          "output_type": "stream",
          "text": [
            "WARNING:absl:Found untraced functions such as _update_step_xla while saving (showing 1 of 1). These functions will not be directly callable after loading.\n"
          ]
        },
        {
          "name": "stdout",
          "output_type": "stream",
          "text": [
            "INFO:tensorflow:Assets written to: model\\slr_model.hdf5_2\\assets\n"
          ]
        },
        {
          "name": "stderr",
          "output_type": "stream",
          "text": [
            "INFO:tensorflow:Assets written to: model\\slr_model.hdf5_2\\assets\n"
          ]
        },
        {
          "name": "stdout",
          "output_type": "stream",
          "text": [
            "167/167 [==============================] - 1s 9ms/step - loss: 0.8054 - accuracy: 0.7185 - val_loss: 0.2920 - val_accuracy: 0.9613\n",
            "Epoch 91/1000\n",
            "160/167 [===========================>..] - ETA: 0s - loss: 0.7940 - accuracy: 0.7224\n",
            "Epoch 91: saving model to model\\slr_model.hdf5_2\n"
          ]
        },
        {
          "name": "stderr",
          "output_type": "stream",
          "text": [
            "WARNING:absl:Found untraced functions such as _update_step_xla while saving (showing 1 of 1). These functions will not be directly callable after loading.\n"
          ]
        },
        {
          "name": "stdout",
          "output_type": "stream",
          "text": [
            "INFO:tensorflow:Assets written to: model\\slr_model.hdf5_2\\assets\n"
          ]
        },
        {
          "name": "stderr",
          "output_type": "stream",
          "text": [
            "INFO:tensorflow:Assets written to: model\\slr_model.hdf5_2\\assets\n"
          ]
        },
        {
          "name": "stdout",
          "output_type": "stream",
          "text": [
            "167/167 [==============================] - 2s 9ms/step - loss: 0.7957 - accuracy: 0.7204 - val_loss: 0.2862 - val_accuracy: 0.9659\n",
            "Epoch 92/1000\n",
            "137/167 [=======================>......] - ETA: 0s - loss: 0.7913 - accuracy: 0.7209\n",
            "Epoch 92: saving model to model\\slr_model.hdf5_2\n"
          ]
        },
        {
          "name": "stderr",
          "output_type": "stream",
          "text": [
            "WARNING:absl:Found untraced functions such as _update_step_xla while saving (showing 1 of 1). These functions will not be directly callable after loading.\n"
          ]
        },
        {
          "name": "stdout",
          "output_type": "stream",
          "text": [
            "INFO:tensorflow:Assets written to: model\\slr_model.hdf5_2\\assets\n"
          ]
        },
        {
          "name": "stderr",
          "output_type": "stream",
          "text": [
            "INFO:tensorflow:Assets written to: model\\slr_model.hdf5_2\\assets\n"
          ]
        },
        {
          "name": "stdout",
          "output_type": "stream",
          "text": [
            "167/167 [==============================] - 1s 7ms/step - loss: 0.7953 - accuracy: 0.7188 - val_loss: 0.2830 - val_accuracy: 0.9691\n",
            "Epoch 93/1000\n",
            "140/167 [========================>.....] - ETA: 0s - loss: 0.7986 - accuracy: 0.7194\n",
            "Epoch 93: saving model to model\\slr_model.hdf5_2\n"
          ]
        },
        {
          "name": "stderr",
          "output_type": "stream",
          "text": [
            "WARNING:absl:Found untraced functions such as _update_step_xla while saving (showing 1 of 1). These functions will not be directly callable after loading.\n"
          ]
        },
        {
          "name": "stdout",
          "output_type": "stream",
          "text": [
            "INFO:tensorflow:Assets written to: model\\slr_model.hdf5_2\\assets\n"
          ]
        },
        {
          "name": "stderr",
          "output_type": "stream",
          "text": [
            "INFO:tensorflow:Assets written to: model\\slr_model.hdf5_2\\assets\n"
          ]
        },
        {
          "name": "stdout",
          "output_type": "stream",
          "text": [
            "167/167 [==============================] - 1s 7ms/step - loss: 0.7955 - accuracy: 0.7192 - val_loss: 0.2866 - val_accuracy: 0.9619\n",
            "Epoch 94/1000\n",
            "129/167 [======================>.......] - ETA: 0s - loss: 0.7816 - accuracy: 0.7245\n",
            "Epoch 94: saving model to model\\slr_model.hdf5_2\n"
          ]
        },
        {
          "name": "stderr",
          "output_type": "stream",
          "text": [
            "WARNING:absl:Found untraced functions such as _update_step_xla while saving (showing 1 of 1). These functions will not be directly callable after loading.\n"
          ]
        },
        {
          "name": "stdout",
          "output_type": "stream",
          "text": [
            "INFO:tensorflow:Assets written to: model\\slr_model.hdf5_2\\assets\n"
          ]
        },
        {
          "name": "stderr",
          "output_type": "stream",
          "text": [
            "INFO:tensorflow:Assets written to: model\\slr_model.hdf5_2\\assets\n"
          ]
        },
        {
          "name": "stdout",
          "output_type": "stream",
          "text": [
            "167/167 [==============================] - 1s 8ms/step - loss: 0.7800 - accuracy: 0.7256 - val_loss: 0.2885 - val_accuracy: 0.9632\n",
            "Epoch 95/1000\n",
            "145/167 [=========================>....] - ETA: 0s - loss: 0.7746 - accuracy: 0.7303\n",
            "Epoch 95: saving model to model\\slr_model.hdf5_2\n"
          ]
        },
        {
          "name": "stderr",
          "output_type": "stream",
          "text": [
            "WARNING:absl:Found untraced functions such as _update_step_xla while saving (showing 1 of 1). These functions will not be directly callable after loading.\n"
          ]
        },
        {
          "name": "stdout",
          "output_type": "stream",
          "text": [
            "INFO:tensorflow:Assets written to: model\\slr_model.hdf5_2\\assets\n"
          ]
        },
        {
          "name": "stderr",
          "output_type": "stream",
          "text": [
            "INFO:tensorflow:Assets written to: model\\slr_model.hdf5_2\\assets\n"
          ]
        },
        {
          "name": "stdout",
          "output_type": "stream",
          "text": [
            "167/167 [==============================] - 1s 9ms/step - loss: 0.7722 - accuracy: 0.7297 - val_loss: 0.2901 - val_accuracy: 0.9616\n",
            "Epoch 96/1000\n",
            "164/167 [============================>.] - ETA: 0s - loss: 0.7809 - accuracy: 0.7279\n",
            "Epoch 96: saving model to model\\slr_model.hdf5_2\n"
          ]
        },
        {
          "name": "stderr",
          "output_type": "stream",
          "text": [
            "WARNING:absl:Found untraced functions such as _update_step_xla while saving (showing 1 of 1). These functions will not be directly callable after loading.\n"
          ]
        },
        {
          "name": "stdout",
          "output_type": "stream",
          "text": [
            "INFO:tensorflow:Assets written to: model\\slr_model.hdf5_2\\assets\n"
          ]
        },
        {
          "name": "stderr",
          "output_type": "stream",
          "text": [
            "INFO:tensorflow:Assets written to: model\\slr_model.hdf5_2\\assets\n"
          ]
        },
        {
          "name": "stdout",
          "output_type": "stream",
          "text": [
            "167/167 [==============================] - 2s 9ms/step - loss: 0.7822 - accuracy: 0.7276 - val_loss: 0.2861 - val_accuracy: 0.9603\n",
            "Epoch 97/1000\n",
            "133/167 [======================>.......] - ETA: 0s - loss: 0.7919 - accuracy: 0.7223\n",
            "Epoch 97: saving model to model\\slr_model.hdf5_2\n"
          ]
        },
        {
          "name": "stderr",
          "output_type": "stream",
          "text": [
            "WARNING:absl:Found untraced functions such as _update_step_xla while saving (showing 1 of 1). These functions will not be directly callable after loading.\n"
          ]
        },
        {
          "name": "stdout",
          "output_type": "stream",
          "text": [
            "INFO:tensorflow:Assets written to: model\\slr_model.hdf5_2\\assets\n"
          ]
        },
        {
          "name": "stderr",
          "output_type": "stream",
          "text": [
            "INFO:tensorflow:Assets written to: model\\slr_model.hdf5_2\\assets\n"
          ]
        },
        {
          "name": "stdout",
          "output_type": "stream",
          "text": [
            "167/167 [==============================] - 1s 8ms/step - loss: 0.7865 - accuracy: 0.7246 - val_loss: 0.2775 - val_accuracy: 0.9701\n",
            "Epoch 98/1000\n",
            "152/167 [==========================>...] - ETA: 0s - loss: 0.7761 - accuracy: 0.7266\n",
            "Epoch 98: saving model to model\\slr_model.hdf5_2\n"
          ]
        },
        {
          "name": "stderr",
          "output_type": "stream",
          "text": [
            "WARNING:absl:Found untraced functions such as _update_step_xla while saving (showing 1 of 1). These functions will not be directly callable after loading.\n"
          ]
        },
        {
          "name": "stdout",
          "output_type": "stream",
          "text": [
            "INFO:tensorflow:Assets written to: model\\slr_model.hdf5_2\\assets\n"
          ]
        },
        {
          "name": "stderr",
          "output_type": "stream",
          "text": [
            "INFO:tensorflow:Assets written to: model\\slr_model.hdf5_2\\assets\n"
          ]
        },
        {
          "name": "stdout",
          "output_type": "stream",
          "text": [
            "167/167 [==============================] - 1s 8ms/step - loss: 0.7776 - accuracy: 0.7258 - val_loss: 0.2785 - val_accuracy: 0.9683\n",
            "Epoch 99/1000\n",
            "158/167 [===========================>..] - ETA: 0s - loss: 0.7799 - accuracy: 0.7232\n",
            "Epoch 99: saving model to model\\slr_model.hdf5_2\n"
          ]
        },
        {
          "name": "stderr",
          "output_type": "stream",
          "text": [
            "WARNING:absl:Found untraced functions such as _update_step_xla while saving (showing 1 of 1). These functions will not be directly callable after loading.\n"
          ]
        },
        {
          "name": "stdout",
          "output_type": "stream",
          "text": [
            "INFO:tensorflow:Assets written to: model\\slr_model.hdf5_2\\assets\n"
          ]
        },
        {
          "name": "stderr",
          "output_type": "stream",
          "text": [
            "INFO:tensorflow:Assets written to: model\\slr_model.hdf5_2\\assets\n"
          ]
        },
        {
          "name": "stdout",
          "output_type": "stream",
          "text": [
            "167/167 [==============================] - 1s 7ms/step - loss: 0.7827 - accuracy: 0.7240 - val_loss: 0.2777 - val_accuracy: 0.9549\n",
            "Epoch 100/1000\n",
            "129/167 [======================>.......] - ETA: 0s - loss: 0.7828 - accuracy: 0.7275\n",
            "Epoch 100: saving model to model\\slr_model.hdf5_2\n"
          ]
        },
        {
          "name": "stderr",
          "output_type": "stream",
          "text": [
            "WARNING:absl:Found untraced functions such as _update_step_xla while saving (showing 1 of 1). These functions will not be directly callable after loading.\n"
          ]
        },
        {
          "name": "stdout",
          "output_type": "stream",
          "text": [
            "INFO:tensorflow:Assets written to: model\\slr_model.hdf5_2\\assets\n"
          ]
        },
        {
          "name": "stderr",
          "output_type": "stream",
          "text": [
            "INFO:tensorflow:Assets written to: model\\slr_model.hdf5_2\\assets\n"
          ]
        },
        {
          "name": "stdout",
          "output_type": "stream",
          "text": [
            "167/167 [==============================] - 1s 7ms/step - loss: 0.7838 - accuracy: 0.7273 - val_loss: 0.2839 - val_accuracy: 0.9667\n",
            "Epoch 101/1000\n",
            "142/167 [========================>.....] - ETA: 0s - loss: 0.7774 - accuracy: 0.7272\n",
            "Epoch 101: saving model to model\\slr_model.hdf5_2\n"
          ]
        },
        {
          "name": "stderr",
          "output_type": "stream",
          "text": [
            "WARNING:absl:Found untraced functions such as _update_step_xla while saving (showing 1 of 1). These functions will not be directly callable after loading.\n"
          ]
        },
        {
          "name": "stdout",
          "output_type": "stream",
          "text": [
            "INFO:tensorflow:Assets written to: model\\slr_model.hdf5_2\\assets\n"
          ]
        },
        {
          "name": "stderr",
          "output_type": "stream",
          "text": [
            "INFO:tensorflow:Assets written to: model\\slr_model.hdf5_2\\assets\n"
          ]
        },
        {
          "name": "stdout",
          "output_type": "stream",
          "text": [
            "167/167 [==============================] - 1s 7ms/step - loss: 0.7764 - accuracy: 0.7256 - val_loss: 0.2979 - val_accuracy: 0.9651\n",
            "Epoch 102/1000\n",
            "153/167 [==========================>...] - ETA: 0s - loss: 0.7755 - accuracy: 0.7288\n",
            "Epoch 102: saving model to model\\slr_model.hdf5_2\n"
          ]
        },
        {
          "name": "stderr",
          "output_type": "stream",
          "text": [
            "WARNING:absl:Found untraced functions such as _update_step_xla while saving (showing 1 of 1). These functions will not be directly callable after loading.\n"
          ]
        },
        {
          "name": "stdout",
          "output_type": "stream",
          "text": [
            "INFO:tensorflow:Assets written to: model\\slr_model.hdf5_2\\assets\n"
          ]
        },
        {
          "name": "stderr",
          "output_type": "stream",
          "text": [
            "INFO:tensorflow:Assets written to: model\\slr_model.hdf5_2\\assets\n"
          ]
        },
        {
          "name": "stdout",
          "output_type": "stream",
          "text": [
            "167/167 [==============================] - 1s 7ms/step - loss: 0.7775 - accuracy: 0.7274 - val_loss: 0.2810 - val_accuracy: 0.9600\n",
            "Epoch 103/1000\n",
            "158/167 [===========================>..] - ETA: 0s - loss: 0.7813 - accuracy: 0.7275\n",
            "Epoch 103: saving model to model\\slr_model.hdf5_2\n"
          ]
        },
        {
          "name": "stderr",
          "output_type": "stream",
          "text": [
            "WARNING:absl:Found untraced functions such as _update_step_xla while saving (showing 1 of 1). These functions will not be directly callable after loading.\n"
          ]
        },
        {
          "name": "stdout",
          "output_type": "stream",
          "text": [
            "INFO:tensorflow:Assets written to: model\\slr_model.hdf5_2\\assets\n"
          ]
        },
        {
          "name": "stderr",
          "output_type": "stream",
          "text": [
            "INFO:tensorflow:Assets written to: model\\slr_model.hdf5_2\\assets\n"
          ]
        },
        {
          "name": "stdout",
          "output_type": "stream",
          "text": [
            "167/167 [==============================] - 1s 7ms/step - loss: 0.7803 - accuracy: 0.7276 - val_loss: 0.2978 - val_accuracy: 0.9629\n",
            "Epoch 104/1000\n",
            "147/167 [=========================>....] - ETA: 0s - loss: 0.7784 - accuracy: 0.7222\n",
            "Epoch 104: saving model to model\\slr_model.hdf5_2\n"
          ]
        },
        {
          "name": "stderr",
          "output_type": "stream",
          "text": [
            "WARNING:absl:Found untraced functions such as _update_step_xla while saving (showing 1 of 1). These functions will not be directly callable after loading.\n"
          ]
        },
        {
          "name": "stdout",
          "output_type": "stream",
          "text": [
            "INFO:tensorflow:Assets written to: model\\slr_model.hdf5_2\\assets\n"
          ]
        },
        {
          "name": "stderr",
          "output_type": "stream",
          "text": [
            "INFO:tensorflow:Assets written to: model\\slr_model.hdf5_2\\assets\n"
          ]
        },
        {
          "name": "stdout",
          "output_type": "stream",
          "text": [
            "167/167 [==============================] - 2s 9ms/step - loss: 0.7742 - accuracy: 0.7249 - val_loss: 0.2735 - val_accuracy: 0.9613\n",
            "Epoch 105/1000\n",
            "166/167 [============================>.] - ETA: 0s - loss: 0.7632 - accuracy: 0.7293\n",
            "Epoch 105: saving model to model\\slr_model.hdf5_2\n"
          ]
        },
        {
          "name": "stderr",
          "output_type": "stream",
          "text": [
            "WARNING:absl:Found untraced functions such as _update_step_xla while saving (showing 1 of 1). These functions will not be directly callable after loading.\n"
          ]
        },
        {
          "name": "stdout",
          "output_type": "stream",
          "text": [
            "INFO:tensorflow:Assets written to: model\\slr_model.hdf5_2\\assets\n"
          ]
        },
        {
          "name": "stderr",
          "output_type": "stream",
          "text": [
            "INFO:tensorflow:Assets written to: model\\slr_model.hdf5_2\\assets\n"
          ]
        },
        {
          "name": "stdout",
          "output_type": "stream",
          "text": [
            "167/167 [==============================] - 1s 8ms/step - loss: 0.7633 - accuracy: 0.7292 - val_loss: 0.2757 - val_accuracy: 0.9387\n",
            "Epoch 106/1000\n",
            "135/167 [=======================>......] - ETA: 0s - loss: 0.7774 - accuracy: 0.7252\n",
            "Epoch 106: saving model to model\\slr_model.hdf5_2\n"
          ]
        },
        {
          "name": "stderr",
          "output_type": "stream",
          "text": [
            "WARNING:absl:Found untraced functions such as _update_step_xla while saving (showing 1 of 1). These functions will not be directly callable after loading.\n"
          ]
        },
        {
          "name": "stdout",
          "output_type": "stream",
          "text": [
            "INFO:tensorflow:Assets written to: model\\slr_model.hdf5_2\\assets\n"
          ]
        },
        {
          "name": "stderr",
          "output_type": "stream",
          "text": [
            "INFO:tensorflow:Assets written to: model\\slr_model.hdf5_2\\assets\n"
          ]
        },
        {
          "name": "stdout",
          "output_type": "stream",
          "text": [
            "167/167 [==============================] - 1s 7ms/step - loss: 0.7733 - accuracy: 0.7263 - val_loss: 0.2770 - val_accuracy: 0.9597\n",
            "Epoch 107/1000\n",
            "164/167 [============================>.] - ETA: 0s - loss: 0.7645 - accuracy: 0.7265\n",
            "Epoch 107: saving model to model\\slr_model.hdf5_2\n"
          ]
        },
        {
          "name": "stderr",
          "output_type": "stream",
          "text": [
            "WARNING:absl:Found untraced functions such as _update_step_xla while saving (showing 1 of 1). These functions will not be directly callable after loading.\n"
          ]
        },
        {
          "name": "stdout",
          "output_type": "stream",
          "text": [
            "INFO:tensorflow:Assets written to: model\\slr_model.hdf5_2\\assets\n"
          ]
        },
        {
          "name": "stderr",
          "output_type": "stream",
          "text": [
            "INFO:tensorflow:Assets written to: model\\slr_model.hdf5_2\\assets\n"
          ]
        },
        {
          "name": "stdout",
          "output_type": "stream",
          "text": [
            "167/167 [==============================] - 1s 7ms/step - loss: 0.7643 - accuracy: 0.7272 - val_loss: 0.2709 - val_accuracy: 0.9720\n",
            "Epoch 108/1000\n",
            "149/167 [=========================>....] - ETA: 0s - loss: 0.7590 - accuracy: 0.7341\n",
            "Epoch 108: saving model to model\\slr_model.hdf5_2\n"
          ]
        },
        {
          "name": "stderr",
          "output_type": "stream",
          "text": [
            "WARNING:absl:Found untraced functions such as _update_step_xla while saving (showing 1 of 1). These functions will not be directly callable after loading.\n"
          ]
        },
        {
          "name": "stdout",
          "output_type": "stream",
          "text": [
            "INFO:tensorflow:Assets written to: model\\slr_model.hdf5_2\\assets\n"
          ]
        },
        {
          "name": "stderr",
          "output_type": "stream",
          "text": [
            "INFO:tensorflow:Assets written to: model\\slr_model.hdf5_2\\assets\n"
          ]
        },
        {
          "name": "stdout",
          "output_type": "stream",
          "text": [
            "167/167 [==============================] - 1s 7ms/step - loss: 0.7612 - accuracy: 0.7341 - val_loss: 0.2917 - val_accuracy: 0.9629\n",
            "Epoch 109/1000\n",
            "128/167 [=====================>........] - ETA: 0s - loss: 0.7512 - accuracy: 0.7325\n",
            "Epoch 109: saving model to model\\slr_model.hdf5_2\n"
          ]
        },
        {
          "name": "stderr",
          "output_type": "stream",
          "text": [
            "WARNING:absl:Found untraced functions such as _update_step_xla while saving (showing 1 of 1). These functions will not be directly callable after loading.\n"
          ]
        },
        {
          "name": "stdout",
          "output_type": "stream",
          "text": [
            "INFO:tensorflow:Assets written to: model\\slr_model.hdf5_2\\assets\n"
          ]
        },
        {
          "name": "stderr",
          "output_type": "stream",
          "text": [
            "INFO:tensorflow:Assets written to: model\\slr_model.hdf5_2\\assets\n"
          ]
        },
        {
          "name": "stdout",
          "output_type": "stream",
          "text": [
            "167/167 [==============================] - 1s 8ms/step - loss: 0.7551 - accuracy: 0.7337 - val_loss: 0.2782 - val_accuracy: 0.9523\n",
            "Epoch 110/1000\n",
            "156/167 [===========================>..] - ETA: 0s - loss: 0.7537 - accuracy: 0.7344\n",
            "Epoch 110: saving model to model\\slr_model.hdf5_2\n"
          ]
        },
        {
          "name": "stderr",
          "output_type": "stream",
          "text": [
            "WARNING:absl:Found untraced functions such as _update_step_xla while saving (showing 1 of 1). These functions will not be directly callable after loading.\n"
          ]
        },
        {
          "name": "stdout",
          "output_type": "stream",
          "text": [
            "INFO:tensorflow:Assets written to: model\\slr_model.hdf5_2\\assets\n"
          ]
        },
        {
          "name": "stderr",
          "output_type": "stream",
          "text": [
            "INFO:tensorflow:Assets written to: model\\slr_model.hdf5_2\\assets\n"
          ]
        },
        {
          "name": "stdout",
          "output_type": "stream",
          "text": [
            "167/167 [==============================] - 2s 10ms/step - loss: 0.7530 - accuracy: 0.7335 - val_loss: 0.2653 - val_accuracy: 0.9677\n",
            "Epoch 111/1000\n",
            "154/167 [==========================>...] - ETA: 0s - loss: 0.7640 - accuracy: 0.7303\n",
            "Epoch 111: saving model to model\\slr_model.hdf5_2\n"
          ]
        },
        {
          "name": "stderr",
          "output_type": "stream",
          "text": [
            "WARNING:absl:Found untraced functions such as _update_step_xla while saving (showing 1 of 1). These functions will not be directly callable after loading.\n"
          ]
        },
        {
          "name": "stdout",
          "output_type": "stream",
          "text": [
            "INFO:tensorflow:Assets written to: model\\slr_model.hdf5_2\\assets\n"
          ]
        },
        {
          "name": "stderr",
          "output_type": "stream",
          "text": [
            "INFO:tensorflow:Assets written to: model\\slr_model.hdf5_2\\assets\n"
          ]
        },
        {
          "name": "stdout",
          "output_type": "stream",
          "text": [
            "167/167 [==============================] - 2s 9ms/step - loss: 0.7610 - accuracy: 0.7313 - val_loss: 0.2751 - val_accuracy: 0.9424\n",
            "Epoch 112/1000\n",
            "140/167 [========================>.....] - ETA: 0s - loss: 0.7596 - accuracy: 0.7313\n",
            "Epoch 112: saving model to model\\slr_model.hdf5_2\n"
          ]
        },
        {
          "name": "stderr",
          "output_type": "stream",
          "text": [
            "WARNING:absl:Found untraced functions such as _update_step_xla while saving (showing 1 of 1). These functions will not be directly callable after loading.\n"
          ]
        },
        {
          "name": "stdout",
          "output_type": "stream",
          "text": [
            "INFO:tensorflow:Assets written to: model\\slr_model.hdf5_2\\assets\n"
          ]
        },
        {
          "name": "stderr",
          "output_type": "stream",
          "text": [
            "INFO:tensorflow:Assets written to: model\\slr_model.hdf5_2\\assets\n"
          ]
        },
        {
          "name": "stdout",
          "output_type": "stream",
          "text": [
            "167/167 [==============================] - 1s 7ms/step - loss: 0.7564 - accuracy: 0.7336 - val_loss: 0.2798 - val_accuracy: 0.9496\n",
            "Epoch 113/1000\n",
            "145/167 [=========================>....] - ETA: 0s - loss: 0.7644 - accuracy: 0.7333\n",
            "Epoch 113: saving model to model\\slr_model.hdf5_2\n"
          ]
        },
        {
          "name": "stderr",
          "output_type": "stream",
          "text": [
            "WARNING:absl:Found untraced functions such as _update_step_xla while saving (showing 1 of 1). These functions will not be directly callable after loading.\n"
          ]
        },
        {
          "name": "stdout",
          "output_type": "stream",
          "text": [
            "INFO:tensorflow:Assets written to: model\\slr_model.hdf5_2\\assets\n"
          ]
        },
        {
          "name": "stderr",
          "output_type": "stream",
          "text": [
            "INFO:tensorflow:Assets written to: model\\slr_model.hdf5_2\\assets\n"
          ]
        },
        {
          "name": "stdout",
          "output_type": "stream",
          "text": [
            "167/167 [==============================] - 2s 10ms/step - loss: 0.7590 - accuracy: 0.7353 - val_loss: 0.2759 - val_accuracy: 0.9632\n",
            "Epoch 114/1000\n",
            "158/167 [===========================>..] - ETA: 0s - loss: 0.7595 - accuracy: 0.7332\n",
            "Epoch 114: saving model to model\\slr_model.hdf5_2\n"
          ]
        },
        {
          "name": "stderr",
          "output_type": "stream",
          "text": [
            "WARNING:absl:Found untraced functions such as _update_step_xla while saving (showing 1 of 1). These functions will not be directly callable after loading.\n"
          ]
        },
        {
          "name": "stdout",
          "output_type": "stream",
          "text": [
            "INFO:tensorflow:Assets written to: model\\slr_model.hdf5_2\\assets\n"
          ]
        },
        {
          "name": "stderr",
          "output_type": "stream",
          "text": [
            "INFO:tensorflow:Assets written to: model\\slr_model.hdf5_2\\assets\n"
          ]
        },
        {
          "name": "stdout",
          "output_type": "stream",
          "text": [
            "167/167 [==============================] - 1s 9ms/step - loss: 0.7610 - accuracy: 0.7326 - val_loss: 0.2987 - val_accuracy: 0.9645\n",
            "Epoch 115/1000\n",
            "135/167 [=======================>......] - ETA: 0s - loss: 0.7690 - accuracy: 0.7299\n",
            "Epoch 115: saving model to model\\slr_model.hdf5_2\n"
          ]
        },
        {
          "name": "stderr",
          "output_type": "stream",
          "text": [
            "WARNING:absl:Found untraced functions such as _update_step_xla while saving (showing 1 of 1). These functions will not be directly callable after loading.\n"
          ]
        },
        {
          "name": "stdout",
          "output_type": "stream",
          "text": [
            "INFO:tensorflow:Assets written to: model\\slr_model.hdf5_2\\assets\n"
          ]
        },
        {
          "name": "stderr",
          "output_type": "stream",
          "text": [
            "INFO:tensorflow:Assets written to: model\\slr_model.hdf5_2\\assets\n"
          ]
        },
        {
          "name": "stdout",
          "output_type": "stream",
          "text": [
            "167/167 [==============================] - 1s 9ms/step - loss: 0.7638 - accuracy: 0.7312 - val_loss: 0.2846 - val_accuracy: 0.9664\n",
            "Epoch 116/1000\n",
            "149/167 [=========================>....] - ETA: 0s - loss: 0.7444 - accuracy: 0.7380\n",
            "Epoch 116: saving model to model\\slr_model.hdf5_2\n"
          ]
        },
        {
          "name": "stderr",
          "output_type": "stream",
          "text": [
            "WARNING:absl:Found untraced functions such as _update_step_xla while saving (showing 1 of 1). These functions will not be directly callable after loading.\n"
          ]
        },
        {
          "name": "stdout",
          "output_type": "stream",
          "text": [
            "INFO:tensorflow:Assets written to: model\\slr_model.hdf5_2\\assets\n"
          ]
        },
        {
          "name": "stderr",
          "output_type": "stream",
          "text": [
            "INFO:tensorflow:Assets written to: model\\slr_model.hdf5_2\\assets\n"
          ]
        },
        {
          "name": "stdout",
          "output_type": "stream",
          "text": [
            "167/167 [==============================] - 1s 7ms/step - loss: 0.7433 - accuracy: 0.7377 - val_loss: 0.2589 - val_accuracy: 0.9672\n",
            "Epoch 117/1000\n",
            "151/167 [==========================>...] - ETA: 0s - loss: 0.7450 - accuracy: 0.7380\n",
            "Epoch 117: saving model to model\\slr_model.hdf5_2\n"
          ]
        },
        {
          "name": "stderr",
          "output_type": "stream",
          "text": [
            "WARNING:absl:Found untraced functions such as _update_step_xla while saving (showing 1 of 1). These functions will not be directly callable after loading.\n"
          ]
        },
        {
          "name": "stdout",
          "output_type": "stream",
          "text": [
            "INFO:tensorflow:Assets written to: model\\slr_model.hdf5_2\\assets\n"
          ]
        },
        {
          "name": "stderr",
          "output_type": "stream",
          "text": [
            "INFO:tensorflow:Assets written to: model\\slr_model.hdf5_2\\assets\n"
          ]
        },
        {
          "name": "stdout",
          "output_type": "stream",
          "text": [
            "167/167 [==============================] - 1s 7ms/step - loss: 0.7441 - accuracy: 0.7391 - val_loss: 0.2639 - val_accuracy: 0.9571\n",
            "Epoch 118/1000\n",
            "162/167 [============================>.] - ETA: 0s - loss: 0.7418 - accuracy: 0.7422\n",
            "Epoch 118: saving model to model\\slr_model.hdf5_2\n"
          ]
        },
        {
          "name": "stderr",
          "output_type": "stream",
          "text": [
            "WARNING:absl:Found untraced functions such as _update_step_xla while saving (showing 1 of 1). These functions will not be directly callable after loading.\n"
          ]
        },
        {
          "name": "stdout",
          "output_type": "stream",
          "text": [
            "INFO:tensorflow:Assets written to: model\\slr_model.hdf5_2\\assets\n"
          ]
        },
        {
          "name": "stderr",
          "output_type": "stream",
          "text": [
            "INFO:tensorflow:Assets written to: model\\slr_model.hdf5_2\\assets\n"
          ]
        },
        {
          "name": "stdout",
          "output_type": "stream",
          "text": [
            "167/167 [==============================] - 1s 8ms/step - loss: 0.7407 - accuracy: 0.7421 - val_loss: 0.2747 - val_accuracy: 0.9851\n",
            "Epoch 119/1000\n",
            "158/167 [===========================>..] - ETA: 0s - loss: 0.7455 - accuracy: 0.7378\n",
            "Epoch 119: saving model to model\\slr_model.hdf5_2\n"
          ]
        },
        {
          "name": "stderr",
          "output_type": "stream",
          "text": [
            "WARNING:absl:Found untraced functions such as _update_step_xla while saving (showing 1 of 1). These functions will not be directly callable after loading.\n"
          ]
        },
        {
          "name": "stdout",
          "output_type": "stream",
          "text": [
            "INFO:tensorflow:Assets written to: model\\slr_model.hdf5_2\\assets\n"
          ]
        },
        {
          "name": "stderr",
          "output_type": "stream",
          "text": [
            "INFO:tensorflow:Assets written to: model\\slr_model.hdf5_2\\assets\n"
          ]
        },
        {
          "name": "stdout",
          "output_type": "stream",
          "text": [
            "167/167 [==============================] - 1s 9ms/step - loss: 0.7433 - accuracy: 0.7390 - val_loss: 0.2753 - val_accuracy: 0.9573\n",
            "Epoch 120/1000\n",
            "146/167 [=========================>....] - ETA: 0s - loss: 0.7563 - accuracy: 0.7373\n",
            "Epoch 120: saving model to model\\slr_model.hdf5_2\n"
          ]
        },
        {
          "name": "stderr",
          "output_type": "stream",
          "text": [
            "WARNING:absl:Found untraced functions such as _update_step_xla while saving (showing 1 of 1). These functions will not be directly callable after loading.\n"
          ]
        },
        {
          "name": "stdout",
          "output_type": "stream",
          "text": [
            "INFO:tensorflow:Assets written to: model\\slr_model.hdf5_2\\assets\n"
          ]
        },
        {
          "name": "stderr",
          "output_type": "stream",
          "text": [
            "INFO:tensorflow:Assets written to: model\\slr_model.hdf5_2\\assets\n"
          ]
        },
        {
          "name": "stdout",
          "output_type": "stream",
          "text": [
            "167/167 [==============================] - 1s 7ms/step - loss: 0.7506 - accuracy: 0.7378 - val_loss: 0.2687 - val_accuracy: 0.9464\n",
            "Epoch 121/1000\n",
            "134/167 [=======================>......] - ETA: 0s - loss: 0.7493 - accuracy: 0.7377\n",
            "Epoch 121: saving model to model\\slr_model.hdf5_2\n"
          ]
        },
        {
          "name": "stderr",
          "output_type": "stream",
          "text": [
            "WARNING:absl:Found untraced functions such as _update_step_xla while saving (showing 1 of 1). These functions will not be directly callable after loading.\n"
          ]
        },
        {
          "name": "stdout",
          "output_type": "stream",
          "text": [
            "INFO:tensorflow:Assets written to: model\\slr_model.hdf5_2\\assets\n"
          ]
        },
        {
          "name": "stderr",
          "output_type": "stream",
          "text": [
            "INFO:tensorflow:Assets written to: model\\slr_model.hdf5_2\\assets\n"
          ]
        },
        {
          "name": "stdout",
          "output_type": "stream",
          "text": [
            "167/167 [==============================] - 1s 9ms/step - loss: 0.7485 - accuracy: 0.7377 - val_loss: 0.2847 - val_accuracy: 0.9651\n",
            "Epoch 122/1000\n",
            "155/167 [==========================>...] - ETA: 0s - loss: 0.7505 - accuracy: 0.7377\n",
            "Epoch 122: saving model to model\\slr_model.hdf5_2\n"
          ]
        },
        {
          "name": "stderr",
          "output_type": "stream",
          "text": [
            "WARNING:absl:Found untraced functions such as _update_step_xla while saving (showing 1 of 1). These functions will not be directly callable after loading.\n"
          ]
        },
        {
          "name": "stdout",
          "output_type": "stream",
          "text": [
            "INFO:tensorflow:Assets written to: model\\slr_model.hdf5_2\\assets\n"
          ]
        },
        {
          "name": "stderr",
          "output_type": "stream",
          "text": [
            "INFO:tensorflow:Assets written to: model\\slr_model.hdf5_2\\assets\n"
          ]
        },
        {
          "name": "stdout",
          "output_type": "stream",
          "text": [
            "167/167 [==============================] - 1s 8ms/step - loss: 0.7484 - accuracy: 0.7383 - val_loss: 0.2694 - val_accuracy: 0.9656\n",
            "Epoch 123/1000\n",
            "166/167 [============================>.] - ETA: 0s - loss: 0.7519 - accuracy: 0.7359\n",
            "Epoch 123: saving model to model\\slr_model.hdf5_2\n"
          ]
        },
        {
          "name": "stderr",
          "output_type": "stream",
          "text": [
            "WARNING:absl:Found untraced functions such as _update_step_xla while saving (showing 1 of 1). These functions will not be directly callable after loading.\n"
          ]
        },
        {
          "name": "stdout",
          "output_type": "stream",
          "text": [
            "INFO:tensorflow:Assets written to: model\\slr_model.hdf5_2\\assets\n"
          ]
        },
        {
          "name": "stderr",
          "output_type": "stream",
          "text": [
            "INFO:tensorflow:Assets written to: model\\slr_model.hdf5_2\\assets\n"
          ]
        },
        {
          "name": "stdout",
          "output_type": "stream",
          "text": [
            "167/167 [==============================] - 1s 8ms/step - loss: 0.7519 - accuracy: 0.7359 - val_loss: 0.2752 - val_accuracy: 0.9451\n",
            "Epoch 124/1000\n",
            "155/167 [==========================>...] - ETA: 0s - loss: 0.7405 - accuracy: 0.7377\n",
            "Epoch 124: saving model to model\\slr_model.hdf5_2\n"
          ]
        },
        {
          "name": "stderr",
          "output_type": "stream",
          "text": [
            "WARNING:absl:Found untraced functions such as _update_step_xla while saving (showing 1 of 1). These functions will not be directly callable after loading.\n"
          ]
        },
        {
          "name": "stdout",
          "output_type": "stream",
          "text": [
            "INFO:tensorflow:Assets written to: model\\slr_model.hdf5_2\\assets\n"
          ]
        },
        {
          "name": "stderr",
          "output_type": "stream",
          "text": [
            "INFO:tensorflow:Assets written to: model\\slr_model.hdf5_2\\assets\n"
          ]
        },
        {
          "name": "stdout",
          "output_type": "stream",
          "text": [
            "167/167 [==============================] - 1s 9ms/step - loss: 0.7388 - accuracy: 0.7380 - val_loss: 0.2691 - val_accuracy: 0.9643\n",
            "Epoch 125/1000\n",
            "155/167 [==========================>...] - ETA: 0s - loss: 0.7511 - accuracy: 0.7388\n",
            "Epoch 125: saving model to model\\slr_model.hdf5_2\n"
          ]
        },
        {
          "name": "stderr",
          "output_type": "stream",
          "text": [
            "WARNING:absl:Found untraced functions such as _update_step_xla while saving (showing 1 of 1). These functions will not be directly callable after loading.\n"
          ]
        },
        {
          "name": "stdout",
          "output_type": "stream",
          "text": [
            "INFO:tensorflow:Assets written to: model\\slr_model.hdf5_2\\assets\n"
          ]
        },
        {
          "name": "stderr",
          "output_type": "stream",
          "text": [
            "INFO:tensorflow:Assets written to: model\\slr_model.hdf5_2\\assets\n"
          ]
        },
        {
          "name": "stdout",
          "output_type": "stream",
          "text": [
            "167/167 [==============================] - 1s 8ms/step - loss: 0.7494 - accuracy: 0.7388 - val_loss: 0.2821 - val_accuracy: 0.9592\n",
            "Epoch 126/1000\n",
            "160/167 [===========================>..] - ETA: 0s - loss: 0.7448 - accuracy: 0.7389\n",
            "Epoch 126: saving model to model\\slr_model.hdf5_2\n"
          ]
        },
        {
          "name": "stderr",
          "output_type": "stream",
          "text": [
            "WARNING:absl:Found untraced functions such as _update_step_xla while saving (showing 1 of 1). These functions will not be directly callable after loading.\n"
          ]
        },
        {
          "name": "stdout",
          "output_type": "stream",
          "text": [
            "INFO:tensorflow:Assets written to: model\\slr_model.hdf5_2\\assets\n"
          ]
        },
        {
          "name": "stderr",
          "output_type": "stream",
          "text": [
            "INFO:tensorflow:Assets written to: model\\slr_model.hdf5_2\\assets\n"
          ]
        },
        {
          "name": "stdout",
          "output_type": "stream",
          "text": [
            "167/167 [==============================] - 1s 7ms/step - loss: 0.7437 - accuracy: 0.7386 - val_loss: 0.2857 - val_accuracy: 0.9637\n",
            "Epoch 127/1000\n",
            "123/167 [=====================>........] - ETA: 0s - loss: 0.7289 - accuracy: 0.7444\n",
            "Epoch 127: saving model to model\\slr_model.hdf5_2\n"
          ]
        },
        {
          "name": "stderr",
          "output_type": "stream",
          "text": [
            "WARNING:absl:Found untraced functions such as _update_step_xla while saving (showing 1 of 1). These functions will not be directly callable after loading.\n"
          ]
        },
        {
          "name": "stdout",
          "output_type": "stream",
          "text": [
            "INFO:tensorflow:Assets written to: model\\slr_model.hdf5_2\\assets\n"
          ]
        },
        {
          "name": "stderr",
          "output_type": "stream",
          "text": [
            "INFO:tensorflow:Assets written to: model\\slr_model.hdf5_2\\assets\n"
          ]
        },
        {
          "name": "stdout",
          "output_type": "stream",
          "text": [
            "167/167 [==============================] - 1s 7ms/step - loss: 0.7267 - accuracy: 0.7443 - val_loss: 0.2700 - val_accuracy: 0.9624\n",
            "Epoch 128/1000\n",
            "163/167 [============================>.] - ETA: 0s - loss: 0.7357 - accuracy: 0.7391\n",
            "Epoch 128: saving model to model\\slr_model.hdf5_2\n"
          ]
        },
        {
          "name": "stderr",
          "output_type": "stream",
          "text": [
            "WARNING:absl:Found untraced functions such as _update_step_xla while saving (showing 1 of 1). These functions will not be directly callable after loading.\n"
          ]
        },
        {
          "name": "stdout",
          "output_type": "stream",
          "text": [
            "INFO:tensorflow:Assets written to: model\\slr_model.hdf5_2\\assets\n"
          ]
        },
        {
          "name": "stderr",
          "output_type": "stream",
          "text": [
            "INFO:tensorflow:Assets written to: model\\slr_model.hdf5_2\\assets\n"
          ]
        },
        {
          "name": "stdout",
          "output_type": "stream",
          "text": [
            "167/167 [==============================] - 1s 7ms/step - loss: 0.7345 - accuracy: 0.7393 - val_loss: 0.2761 - val_accuracy: 0.9413\n",
            "Epoch 129/1000\n",
            "126/167 [=====================>........] - ETA: 0s - loss: 0.7454 - accuracy: 0.7371\n",
            "Epoch 129: saving model to model\\slr_model.hdf5_2\n"
          ]
        },
        {
          "name": "stderr",
          "output_type": "stream",
          "text": [
            "WARNING:absl:Found untraced functions such as _update_step_xla while saving (showing 1 of 1). These functions will not be directly callable after loading.\n"
          ]
        },
        {
          "name": "stdout",
          "output_type": "stream",
          "text": [
            "INFO:tensorflow:Assets written to: model\\slr_model.hdf5_2\\assets\n"
          ]
        },
        {
          "name": "stderr",
          "output_type": "stream",
          "text": [
            "INFO:tensorflow:Assets written to: model\\slr_model.hdf5_2\\assets\n"
          ]
        },
        {
          "name": "stdout",
          "output_type": "stream",
          "text": [
            "167/167 [==============================] - 1s 7ms/step - loss: 0.7419 - accuracy: 0.7381 - val_loss: 0.2864 - val_accuracy: 0.9613\n",
            "Epoch 130/1000\n",
            "156/167 [===========================>..] - ETA: 0s - loss: 0.7262 - accuracy: 0.7435\n",
            "Epoch 130: saving model to model\\slr_model.hdf5_2\n"
          ]
        },
        {
          "name": "stderr",
          "output_type": "stream",
          "text": [
            "WARNING:absl:Found untraced functions such as _update_step_xla while saving (showing 1 of 1). These functions will not be directly callable after loading.\n"
          ]
        },
        {
          "name": "stdout",
          "output_type": "stream",
          "text": [
            "INFO:tensorflow:Assets written to: model\\slr_model.hdf5_2\\assets\n"
          ]
        },
        {
          "name": "stderr",
          "output_type": "stream",
          "text": [
            "INFO:tensorflow:Assets written to: model\\slr_model.hdf5_2\\assets\n"
          ]
        },
        {
          "name": "stdout",
          "output_type": "stream",
          "text": [
            "167/167 [==============================] - 1s 8ms/step - loss: 0.7276 - accuracy: 0.7435 - val_loss: 0.2751 - val_accuracy: 0.9621\n",
            "Epoch 131/1000\n",
            "143/167 [========================>.....] - ETA: 0s - loss: 0.7373 - accuracy: 0.7425\n",
            "Epoch 131: saving model to model\\slr_model.hdf5_2\n"
          ]
        },
        {
          "name": "stderr",
          "output_type": "stream",
          "text": [
            "WARNING:absl:Found untraced functions such as _update_step_xla while saving (showing 1 of 1). These functions will not be directly callable after loading.\n"
          ]
        },
        {
          "name": "stdout",
          "output_type": "stream",
          "text": [
            "INFO:tensorflow:Assets written to: model\\slr_model.hdf5_2\\assets\n"
          ]
        },
        {
          "name": "stderr",
          "output_type": "stream",
          "text": [
            "INFO:tensorflow:Assets written to: model\\slr_model.hdf5_2\\assets\n"
          ]
        },
        {
          "name": "stdout",
          "output_type": "stream",
          "text": [
            "167/167 [==============================] - 1s 7ms/step - loss: 0.7383 - accuracy: 0.7420 - val_loss: 0.2850 - val_accuracy: 0.9635\n",
            "Epoch 132/1000\n",
            "155/167 [==========================>...] - ETA: 0s - loss: 0.7321 - accuracy: 0.7428\n",
            "Epoch 132: saving model to model\\slr_model.hdf5_2\n"
          ]
        },
        {
          "name": "stderr",
          "output_type": "stream",
          "text": [
            "WARNING:absl:Found untraced functions such as _update_step_xla while saving (showing 1 of 1). These functions will not be directly callable after loading.\n"
          ]
        },
        {
          "name": "stdout",
          "output_type": "stream",
          "text": [
            "INFO:tensorflow:Assets written to: model\\slr_model.hdf5_2\\assets\n"
          ]
        },
        {
          "name": "stderr",
          "output_type": "stream",
          "text": [
            "INFO:tensorflow:Assets written to: model\\slr_model.hdf5_2\\assets\n"
          ]
        },
        {
          "name": "stdout",
          "output_type": "stream",
          "text": [
            "167/167 [==============================] - 1s 7ms/step - loss: 0.7304 - accuracy: 0.7439 - val_loss: 0.2773 - val_accuracy: 0.9651\n",
            "Epoch 133/1000\n",
            "161/167 [===========================>..] - ETA: 0s - loss: 0.7358 - accuracy: 0.7443\n",
            "Epoch 133: saving model to model\\slr_model.hdf5_2\n"
          ]
        },
        {
          "name": "stderr",
          "output_type": "stream",
          "text": [
            "WARNING:absl:Found untraced functions such as _update_step_xla while saving (showing 1 of 1). These functions will not be directly callable after loading.\n"
          ]
        },
        {
          "name": "stdout",
          "output_type": "stream",
          "text": [
            "INFO:tensorflow:Assets written to: model\\slr_model.hdf5_2\\assets\n"
          ]
        },
        {
          "name": "stderr",
          "output_type": "stream",
          "text": [
            "INFO:tensorflow:Assets written to: model\\slr_model.hdf5_2\\assets\n"
          ]
        },
        {
          "name": "stdout",
          "output_type": "stream",
          "text": [
            "167/167 [==============================] - 1s 8ms/step - loss: 0.7338 - accuracy: 0.7448 - val_loss: 0.2781 - val_accuracy: 0.9589\n",
            "Epoch 134/1000\n",
            "129/167 [======================>.......] - ETA: 0s - loss: 0.7353 - accuracy: 0.7413\n",
            "Epoch 134: saving model to model\\slr_model.hdf5_2\n"
          ]
        },
        {
          "name": "stderr",
          "output_type": "stream",
          "text": [
            "WARNING:absl:Found untraced functions such as _update_step_xla while saving (showing 1 of 1). These functions will not be directly callable after loading.\n"
          ]
        },
        {
          "name": "stdout",
          "output_type": "stream",
          "text": [
            "INFO:tensorflow:Assets written to: model\\slr_model.hdf5_2\\assets\n"
          ]
        },
        {
          "name": "stderr",
          "output_type": "stream",
          "text": [
            "INFO:tensorflow:Assets written to: model\\slr_model.hdf5_2\\assets\n"
          ]
        },
        {
          "name": "stdout",
          "output_type": "stream",
          "text": [
            "167/167 [==============================] - 1s 8ms/step - loss: 0.7320 - accuracy: 0.7424 - val_loss: 0.2835 - val_accuracy: 0.9429\n",
            "Epoch 135/1000\n",
            "130/167 [======================>.......] - ETA: 0s - loss: 0.7412 - accuracy: 0.7397\n",
            "Epoch 135: saving model to model\\slr_model.hdf5_2\n"
          ]
        },
        {
          "name": "stderr",
          "output_type": "stream",
          "text": [
            "WARNING:absl:Found untraced functions such as _update_step_xla while saving (showing 1 of 1). These functions will not be directly callable after loading.\n"
          ]
        },
        {
          "name": "stdout",
          "output_type": "stream",
          "text": [
            "INFO:tensorflow:Assets written to: model\\slr_model.hdf5_2\\assets\n"
          ]
        },
        {
          "name": "stderr",
          "output_type": "stream",
          "text": [
            "INFO:tensorflow:Assets written to: model\\slr_model.hdf5_2\\assets\n"
          ]
        },
        {
          "name": "stdout",
          "output_type": "stream",
          "text": [
            "167/167 [==============================] - 1s 8ms/step - loss: 0.7389 - accuracy: 0.7395 - val_loss: 0.2805 - val_accuracy: 0.9667\n",
            "Epoch 136/1000\n",
            "145/167 [=========================>....] - ETA: 0s - loss: 0.7172 - accuracy: 0.7485\n",
            "Epoch 136: saving model to model\\slr_model.hdf5_2\n"
          ]
        },
        {
          "name": "stderr",
          "output_type": "stream",
          "text": [
            "WARNING:absl:Found untraced functions such as _update_step_xla while saving (showing 1 of 1). These functions will not be directly callable after loading.\n"
          ]
        },
        {
          "name": "stdout",
          "output_type": "stream",
          "text": [
            "INFO:tensorflow:Assets written to: model\\slr_model.hdf5_2\\assets\n"
          ]
        },
        {
          "name": "stderr",
          "output_type": "stream",
          "text": [
            "INFO:tensorflow:Assets written to: model\\slr_model.hdf5_2\\assets\n"
          ]
        },
        {
          "name": "stdout",
          "output_type": "stream",
          "text": [
            "167/167 [==============================] - 1s 8ms/step - loss: 0.7168 - accuracy: 0.7480 - val_loss: 0.2677 - val_accuracy: 0.9469\n",
            "Epoch 136: early stopping\n"
          ]
        }
      ],
      "source": [
        "history = model.fit(\n",
        "    X_train,\n",
        "    y_train,\n",
        "    epochs=1000,\n",
        "    batch_size=128,\n",
        "    validation_data=(X_test, y_test),\n",
        "    callbacks=[cp_callback, es_callback]\n",
        ")"
      ]
    },
    {
      "cell_type": "code",
      "execution_count": 37,
      "metadata": {
        "colab": {
          "base_uri": "https://localhost:8080/"
        },
        "id": "pxvb2Y299hE3",
        "outputId": "59eb3185-2e37-4b9e-bc9d-ab1b8ac29b7f"
      },
      "outputs": [
        {
          "name": "stdout",
          "output_type": "stream",
          "text": [
            "30/30 [==============================] - 0s 981us/step - loss: 0.2677 - accuracy: 0.9469\n"
          ]
        }
      ],
      "source": [
        "# Model evaluation\n",
        "val_loss, val_acc = model.evaluate(X_test, y_test, batch_size=128)"
      ]
    },
    {
      "cell_type": "code",
      "execution_count": 38,
      "metadata": {
        "id": "RBkmDeUW9hE4"
      },
      "outputs": [],
      "source": [
        "# Loading the saved model\n",
        "model = tf.keras.models.load_model(model_save_path)"
      ]
    },
    {
      "cell_type": "code",
      "execution_count": 39,
      "metadata": {
        "colab": {
          "base_uri": "https://localhost:8080/"
        },
        "id": "tFz9Tb0I9hE4",
        "outputId": "1c3b3528-54ae-4ee2-ab04-77429211cbef"
      },
      "outputs": [
        {
          "name": "stdout",
          "output_type": "stream",
          "text": [
            "1/1 [==============================] - 0s 160ms/step\n",
            "[2.7134115e-18 1.7837822e-16 9.9910666e-09 3.9604389e-31 0.0000000e+00\n",
            " 3.0487035e-23 3.9937016e-01 5.1365799e-01 3.4420839e-12 0.0000000e+00\n",
            " 1.4478834e-08 1.6967113e-29 4.5326872e-16 4.6670805e-12 1.4902128e-23\n",
            " 6.2199203e-28 8.6030756e-15 1.5670417e-37 8.6942561e-02 7.0001411e-25\n",
            " 0.0000000e+00 0.0000000e+00 2.9261373e-05 1.8874313e-30 7.3721976e-38]\n",
            "7\n"
          ]
        }
      ],
      "source": [
        "# Inference test\n",
        "predict_result = model.predict(np.array([X_test[0]]))\n",
        "print(np.squeeze(predict_result))\n",
        "print(np.argmax(np.squeeze(predict_result)))"
      ]
    },
    {
      "attachments": {},
      "cell_type": "markdown",
      "metadata": {
        "id": "S3U4yNWx9hE4"
      },
      "source": [
        "# Confusion matrix"
      ]
    },
    {
      "cell_type": "code",
      "execution_count": 40,
      "metadata": {},
      "outputs": [
        {
          "name": "stdout",
          "output_type": "stream",
          "text": [
            "118/118 [==============================] - 0s 712us/step\n"
          ]
        }
      ],
      "source": [
        "Y_pred = model.predict(X_test)\n",
        "y_pred = np.argmax(Y_pred, axis=1)\n"
      ]
    },
    {
      "cell_type": "code",
      "execution_count": 41,
      "metadata": {},
      "outputs": [
        {
          "name": "stdout",
          "output_type": "stream",
          "text": [
            "118/118 [==============================] - 0s 658us/step\n"
          ]
        },
        {
          "data": {
            "image/png": "[encoded data removed]",
            "text/plain": [
              "<Figure size 1200x900 with 2 Axes>"
            ]
          },
          "metadata": {},
          "output_type": "display_data"
        },
        {
          "name": "stdout",
          "output_type": "stream",
          "text": [
            "Accuracy   : 0.9469333333333333\n"
          ]
        }
      ],
      "source": [
        "from sklearn.metrics import accuracy_score\n",
        "import pandas as pd\n",
        "import seaborn as sns\n",
        "import matplotlib.pyplot as plt\n",
        "from sklearn.metrics import confusion_matrix\n",
        "\n",
        "labels = [\"A\", \"B\", \"C\", \"D\", \"E\", \"F\", \"G\", \"H\", \"I\", \"K\", \"L\", \"M\", \"N\", \"O\", \"P\", \"Q\", \"R\", \"S\", \"T\", \"U\", \"V\", \"W\", \"X\", \"Y\",\" \"]\n",
        "prediction = model.predict(X_test)\n",
        "y_pred = np.argmax(prediction, axis=1)\n",
        "\n",
        "\n",
        "cm = confusion_matrix(y_test, y_pred)\n",
        "\n",
        "#Plot the confusion matrix.\n",
        "plt.subplots(figsize=(12, 9))\n",
        "\n",
        "sns.heatmap(cm,\n",
        "            annot=True,\n",
        "            fmt='g',\n",
        "            xticklabels=labels,\n",
        "            yticklabels=labels)\n",
        "\n",
        "plt.title('Confusion Matrix',fontsize=17)\n",
        "# plt.ylabel('Prediction',fontsize=13)\n",
        "# plt.xlabel('Actual',fontsize=13)\n",
        "plt.show()\n",
        "\n",
        "\n",
        "# Finding precision and recall\n",
        "accuracy = accuracy_score(y_test, y_pred)\n",
        "print(\"Accuracy   :\", accuracy)\n"
      ]
    },
    {
      "cell_type": "code",
      "execution_count": 42,
      "metadata": {},
      "outputs": [
        {
          "data": {
            "image/png": "[encoded data removed]",
            "text/plain": [
              "<Figure size 800x600 with 1 Axes>"
            ]
          },
          "metadata": {},
          "output_type": "display_data"
        }
      ],
      "source": [
        "# Extract the loss and accuracy values from the history object\n",
        "loss = history.history['loss']\n",
        "accuracy = history.history['accuracy']\n",
        "\n",
        "# Create a figure for loss and accuracy\n",
        "plt.figure(figsize=(8, 6))\n",
        "\n",
        "# Plot the loss curve\n",
        "plt.plot(loss, label='Training Loss')\n",
        "plt.plot(accuracy, label='Training Accuracy')\n",
        "\n",
        "plt.xlabel('Epochs')\n",
        "plt.ylabel('Value')\n",
        "plt.legend()\n",
        "\n",
        "# Show the plot\n",
        "plt.tight_layout()\n",
        "plt.show()"
      ]
    },
    {
      "attachments": {},
      "cell_type": "markdown",
      "metadata": {
        "id": "FNP6aqzc9hE5"
      },
      "source": [
        "# Convert to model for Tensorflow-Lite"
      ]
    },
    {
      "cell_type": "code",
      "execution_count": 43,
      "metadata": {
        "id": "ODjnYyld9hE6"
      },
      "outputs": [
        {
          "name": "stdout",
          "output_type": "stream",
          "text": [
            "INFO:tensorflow:Assets written to: model/slr_model.hdf5_2\\assets\n"
          ]
        },
        {
          "name": "stderr",
          "output_type": "stream",
          "text": [
            "INFO:tensorflow:Assets written to: model/slr_model.hdf5_2\\assets\n"
          ]
        }
      ],
      "source": [
        "# Save as a model dedicated to inference\n",
        "model.save(model_save_path, include_optimizer=False)"
      ]
    },
    {
      "cell_type": "code",
      "execution_count": 44,
      "metadata": {
        "colab": {
          "base_uri": "https://localhost:8080/"
        },
        "id": "zRfuK8Y59hE6",
        "outputId": "a4ca585c-b5d5-4244-8291-8674063209bb"
      },
      "outputs": [
        {
          "name": "stderr",
          "output_type": "stream",
          "text": [
            "WARNING:absl:Found untraced functions such as _update_step_xla while saving (showing 1 of 1). These functions will not be directly callable after loading.\n"
          ]
        },
        {
          "name": "stdout",
          "output_type": "stream",
          "text": [
            "INFO:tensorflow:Assets written to: C:\\Users\\JATINY~1\\AppData\\Local\\Temp\\tmpdihz98tx\\assets\n"
          ]
        },
        {
          "name": "stderr",
          "output_type": "stream",
          "text": [
            "INFO:tensorflow:Assets written to: C:\\Users\\JATINY~1\\AppData\\Local\\Temp\\tmpdihz98tx\\assets\n"
          ]
        },
        {
          "data": {
            "text/plain": [
              "7496"
            ]
          },
          "execution_count": 44,
          "metadata": {},
          "output_type": "execute_result"
        }
      ],
      "source": [
        "# Transform model (quantization)\n",
        "\n",
        "converter = tf.lite.TFLiteConverter.from_keras_model(model)\n",
        "converter.optimizations = [tf.lite.Optimize.DEFAULT]\n",
        "tflite_quantized_model = converter.convert()\n",
        "\n",
        "open(tflite_save_path, 'wb').write(tflite_quantized_model)"
      ]
    }
  ],
  "metadata": {
    "accelerator": "GPU",
    "colab": {
      "collapsed_sections": [],
      "name": "keypoint_classification_EN.ipynb",
      "provenance": [],
      "toc_visible": true
    },
    "kernelspec": {
      "display_name": "base",
      "language": "python",
      "name": "python3"
    },
    "language_info": {
      "codemirror_mode": {
        "name": "ipython",
        "version": 3
      },
      "file_extension": ".py",
      "mimetype": "text/x-python",
      "name": "python",
      "nbconvert_exporter": "python",
      "pygments_lexer": "ipython3",
      "version": "3.10.9"
    }
  },
  "nbformat": 4,
  "nbformat_minor": 0
}
